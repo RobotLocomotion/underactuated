{
 "cells": [
  {
   "cell_type": "code",
   "execution_count": 2,
   "metadata": {},
   "outputs": [],
   "source": [
    "%load_ext autoreload\n",
    "%autoreload 2\n",
    "from __future__ import print_function\n",
    "\n",
    "import pydrake # Make sure to import pydrake BEFORE torch!\n",
    "from networks import *"
   ]
  },
  {
   "cell_type": "markdown",
   "metadata": {},
   "source": [
    "# Simple network forward pass"
   ]
  },
  {
   "cell_type": "code",
   "execution_count": 3,
   "metadata": {},
   "outputs": [
    {
     "name": "stdout",
     "output_type": "stream",
     "text": [
      "[-0.161789]\n"
     ]
    }
   ],
   "source": [
    "from NNSystem import NNSystem\n",
    "from pydrake.all import BasicVector\n",
    "\n",
    "# Create nn and NNSystem\n",
    "net = MLP(n_inputs=2, h_sz=8)\n",
    "nn_system = NNSystem(net)\n",
    "\n",
    "# Fix an input\n",
    "context = nn_system.CreateDefaultContext()\n",
    "context.FixInputPort(0, BasicVector([0, 0]))\n",
    "\n",
    "# Get an output\n",
    "output = nn_system.AllocateOutput()\n",
    "nn_system.CalcOutput(context, output)\n",
    "output_value = output.get_vector_data(0)\n",
    "\n",
    "print(output_value)"
   ]
  },
  {
   "cell_type": "markdown",
   "metadata": {},
   "source": [
    "# Declaring Params in Context (double and AutoDiffXd)"
   ]
  },
  {
   "cell_type": "code",
   "execution_count": 44,
   "metadata": {},
   "outputs": [
    {
     "name": "stdout",
     "output_type": "stream",
     "text": [
      "[<AutoDiffXd 5.05596100896 nderiv=2>]\n",
      "[<AutoDiffXd 5.10211246411 nderiv=2>]\n"
     ]
    }
   ],
   "source": [
    "from NNSystem import NNSystem_\n",
    "from pydrake.all import BasicVector_, AutoDiffXd\n",
    "\n",
    "np.random.seed(1)\n",
    "\n",
    "# T = float\n",
    "T = AutoDiffXd\n",
    "\n",
    "def rand():\n",
    "    global T\n",
    "    val = np.random.random()\n",
    "    if T == float:\n",
    "        return val\n",
    "    elif T == AutoDiffXd:\n",
    "        return AutoDiffXd(val, [1, 0])\n",
    "\n",
    "# Create nn and NNSystem\n",
    "net = MLP(n_inputs=2, h_sz=8)\n",
    "nn_system = NNSystem_[T](net)\n",
    "\n",
    "# Expose the networks params\n",
    "params = np.array([rand() for _ in range(105)])\n",
    "nn_system.DeclareNetworkParameters(params)\n",
    "\n",
    "# Fix an input\n",
    "context = nn_system.CreateDefaultContext()\n",
    "context.FixInputPort(0, BasicVector_[T]( [[rand()], [rand()]] ))\n",
    "output = nn_system.AllocateOutput()\n",
    "\n",
    "# Get an output\n",
    "nn_system.CalcOutput(context, output)\n",
    "output_value = output.get_vector_data(0).CopyToVector()\n",
    "print(output_value)\n",
    "\n",
    "# Change network params\n",
    "params = context.get_numeric_parameter(0)\n",
    "for i in range(50):\n",
    "    params.SetAtIndex(i, 1000*rand())\n",
    "\n",
    "# Get an output\n",
    "nn_system.CalcOutput(context, output)\n",
    "output_value = output.get_vector_data(0).CopyToVector()\n",
    "print(output_value)"
   ]
  },
  {
   "cell_type": "markdown",
   "metadata": {},
   "source": [
    "# Network as a Controller"
   ]
  },
  {
   "cell_type": "code",
   "execution_count": null,
   "metadata": {},
   "outputs": [],
   "source": [
    "from demos.nn_policy import NNTestSetupPendulum, NNTestSetupAcrobot\n",
    "\n",
    "kNetConstructor = lambda: MLP(n_inputs=2, h_sz=8)\n",
    "net = kNetConstructor()\n",
    "net.load_state_dict(torch.load('demo_net.pth'))\n",
    "NNTestSetupPendulum(network=net, real_time_rate=1.0)"
   ]
  },
  {
   "cell_type": "markdown",
   "metadata": {},
   "source": [
    "# Testing Costs and Constraints"
   ]
  },
  {
   "cell_type": "code",
   "execution_count": null,
   "metadata": {},
   "outputs": [],
   "source": [
    "% matplotlib inline\n",
    "from demos.nn_costs_and_constraints import make_constrained_opt\n",
    "\n",
    "kNetConstructor = lambda: FC(2)\n",
    "dircol = make_constrained_opt(kNetConstructor, use_cost=True, use_constraint=False)\n",
    "dircol.Solve()"
   ]
  },
  {
   "cell_type": "code",
   "execution_count": null,
   "metadata": {},
   "outputs": [],
   "source": []
  }
 ],
 "metadata": {
  "kernelspec": {
   "display_name": "Python 2",
   "language": "python",
   "name": "python2"
  },
  "language_info": {
   "codemirror_mode": {
    "name": "ipython",
    "version": 2
   },
   "file_extension": ".py",
   "mimetype": "text/x-python",
   "name": "python",
   "nbconvert_exporter": "python",
   "pygments_lexer": "ipython2",
   "version": "2.7.12"
  }
 },
 "nbformat": 4,
 "nbformat_minor": 2
}
