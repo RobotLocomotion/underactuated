{
 "cells": [
  {
   "cell_type": "code",
   "execution_count": null,
   "metadata": {},
   "outputs": [],
   "source": [
    "# Run this cell first to import some modules\n",
    "# we'll need to run the examples below.\n",
    "%matplotlib inline\n",
    "import math\n",
    "import numpy as np\n",
    "import matplotlib.pyplot as plt\n",
    "from IPython.display import HTML\n",
    "\n",
    "from pydrake.multibody.rigid_body_tree import (\n",
    "    RigidBodyTree,\n",
    "    FloatingBaseType\n",
    ")\n",
    "from pydrake.multibody.rigid_body_plant import (\n",
    "    RigidBodyPlant\n",
    ")\n",
    "from pydrake.systems.analysis import Simulator\n",
    "from pydrake.systems.framework import (\n",
    "    Context,\n",
    "    DiagramBuilder,\n",
    "    LeafSystem,\n",
    "    PortDataType,\n",
    "    BasicVector\n",
    ")\n",
    "from pydrake.systems.primitives import (\n",
    "    SignalLogger\n",
    ")\n",
    "from planar_rigid_body_visualizer import PlanarRigidBodyVisualizer\n",
    "from manipulator_dynamics import manipulator_dynamics"
   ]
  },
  {
   "cell_type": "code",
   "execution_count": null,
   "metadata": {},
   "outputs": [],
   "source": [
    "# This cell sets up a double pendulum, runs a simulation, and\n",
    "# renders a video of its results.\n",
    "\n",
    "# Load the double pendulum from Universal Robot Description Format\n",
    "tree = RigidBodyTree(\"double_pendulum.urdf\", FloatingBaseType.kFixed)\n",
    "\n",
    "# Set up a block diagram with the robot (dynamics) and a logger block.\n",
    "builder = DiagramBuilder()\n",
    "robot = builder.AddSystem(RigidBodyPlant(tree))\n",
    "builder.ExportInput(robot.get_input_port(0))\n",
    "\n",
    "# The logger needs to be told to expect a 4-element input\n",
    "# (the 4-element double pendulum state, in this case).\n",
    "logger = builder.AddSystem(SignalLogger(4))\n",
    "logger._DeclarePeriodicPublish(0.033333, 0.0)\n",
    "builder.Connect(robot.get_output_port(0), logger.get_input_port(0))\n",
    "\n",
    "diagram = builder.Build()\n",
    "\n",
    "# Set up a simulator to run this diagram\n",
    "simulator = Simulator(diagram)\n",
    "simulator.set_publish_every_time_step(False)\n",
    "\n",
    "# Set the initial conditions\n",
    "context = simulator.get_mutable_context()\n",
    "context.FixInputPort(0, BasicVector([0.,0.]))   # Zero input torques\n",
    "state = context.get_mutable_continuous_state_vector()\n",
    "state.SetFromVector((2.,0.5,0.2,0.0))  # (theta1, theta2, theta1dot, theta2dot)\n",
    "\n",
    "# Simulate\n",
    "simulator.StepTo(10.0)\n",
    "\n",
    "# Visualize the result as a video.\n",
    "vis = PlanarRigidBodyVisualizer(tree, xlim=[-3.4,3.4], ylim=[-3.4,3.4], use_random_colors=True)\n",
    "ani = vis.animate(logger, 60, repeat=True)\n",
    "plt.close(vis.fig)\n",
    "HTML(ani.to_html5_video())"
   ]
  },
  {
   "cell_type": "code",
   "execution_count": null,
   "metadata": {},
   "outputs": [],
   "source": [
    "# Run this cell after running a simulation to plot traces\n",
    "# of the pendulum state across time.\n",
    "fields = [\"shoulder\", \"elbow\"]\n",
    "for i in range(2):\n",
    "    #plt.subplot(3, 1, i+1)\n",
    "    plt.plot(logger.sample_times(), logger.data()[(i, i+2), :].transpose())\n",
    "    plt.legend([\"position\", \"velocity\"])\n",
    "    plt.xlabel('t')\n",
    "    plt.ylabel(fields[i])\n",
    "    plt.grid(True)\n",
    "    plt.show()"
   ]
  }
 ],
 "metadata": {
  "kernelspec": {
   "display_name": "Python 2",
   "language": "python",
   "name": "python2"
  },
  "language_info": {
   "codemirror_mode": {
    "name": "ipython",
    "version": 2
   },
   "file_extension": ".py",
   "mimetype": "text/x-python",
   "name": "python",
   "nbconvert_exporter": "python",
   "pygments_lexer": "ipython2",
   "version": "2.7.12"
  }
 },
 "nbformat": 4,
 "nbformat_minor": 2
}
