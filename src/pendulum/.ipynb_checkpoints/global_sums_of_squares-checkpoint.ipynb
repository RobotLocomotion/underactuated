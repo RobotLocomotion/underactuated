{
 "cells": [
  {
   "cell_type": "markdown",
   "metadata": {},
   "source": [
    "Uses Sums-of-Squares Optimization to find a Lyapunov function that proves global stability (except from the set of measure zero representing the upright states) of the fixed points at $\\theta^* = 2\\pi k$ (with integer $k$) for the damped pendulum."
   ]
  },
  {
   "cell_type": "code",
   "execution_count": 5,
   "metadata": {},
   "outputs": [],
   "source": [
    "# Install drake (if necessary) and set up the path.  \n",
    "try:\n",
    "  import pydrake\n",
    "except ImportError:\n",
    "  !curl -s https://raw.githubusercontent.com/RussTedrake/underactuated/master/scripts/setup/jupyter_setup.py > jupyter_setup.py\n",
    "  from jupyter_setup import setup_drake\n",
    "  setup_drake()\n",
    "# Note: On Google's Colaboratory, this will take a minute, but should only need to reinstall once every 12 hours.\n",
    "# Colab will ask you to \"Reset all runtimes\", say no to save yourself the reinstall."
   ]
  },
  {
   "cell_type": "code",
   "execution_count": 1,
   "metadata": {},
   "outputs": [
    {
     "name": "stdout",
     "output_type": "stream",
     "text": [
      "Mechanical Energy = \n",
      "(4.9050000000000002 * (1 - c(0)) + 0.125 * pow(thetadot(0), 2))\n",
      "V =\n"
     ]
    },
    {
     "ename": "TypeError",
     "evalue": "GetSolution(): incompatible function arguments. The following argument types are supported:\n    1. (self: pydrake.solvers.mathematicalprogram.MathematicalProgramResult) -> numpy.ndarray[float64[m, 1]]\n    2. (self: pydrake.solvers.mathematicalprogram.MathematicalProgramResult, arg0: pydrake.symbolic.Variable) -> float\n    3. (self: pydrake.solvers.mathematicalprogram.MathematicalProgramResult, arg0: numpy.ndarray[object[m, 1]]) -> numpy.ndarray[float64[m, 1]]\n    4. (self: pydrake.solvers.mathematicalprogram.MathematicalProgramResult, arg0: numpy.ndarray[object[m, n]]) -> numpy.ndarray[float64[m, n]]\n\nInvoked with: <pydrake.solvers.mathematicalprogram.MathematicalProgramResult object at 0x11610d7f0>, <Expression \"(a(9) + (s(0) * c(0) * a(4)) + (s(0) * thetadot(0) * a(3)) + (s(0) * a(8)) + (pow(s(0), 2) * a(5)) + (c(0) * thetadot(0) * a(1)) + (c(0) * a(7)) + (pow(c(0), 2) * a(2)) + (thetadot(0) * a(6)) + (pow(thetadot(0), 2) * a(0)))\">",
     "output_type": "error",
     "traceback": [
      "\u001b[0;31m---------------------------------------------------------------------------\u001b[0m",
      "\u001b[0;31mTypeError\u001b[0m                                 Traceback (most recent call last)",
      "\u001b[0;32m<ipython-input-1-b788041d156a>\u001b[0m in \u001b[0;36m<module>\u001b[0;34m()\u001b[0m\n\u001b[1;32m     38\u001b[0m \u001b[0;34m\u001b[0m\u001b[0m\n\u001b[1;32m     39\u001b[0m \u001b[0;32mprint\u001b[0m\u001b[0;34m(\u001b[0m\u001b[0;34m'V ='\u001b[0m\u001b[0;34m)\u001b[0m\u001b[0;34m\u001b[0m\u001b[0m\n\u001b[0;32m---> 40\u001b[0;31m \u001b[0mVsol\u001b[0m \u001b[0;34m=\u001b[0m \u001b[0mPolynomial\u001b[0m\u001b[0;34m(\u001b[0m\u001b[0mresult\u001b[0m\u001b[0;34m.\u001b[0m\u001b[0mGetSolution\u001b[0m\u001b[0;34m(\u001b[0m\u001b[0mV\u001b[0m\u001b[0;34m)\u001b[0m\u001b[0;34m)\u001b[0m\u001b[0;34m;\u001b[0m\u001b[0;34m\u001b[0m\u001b[0m\n\u001b[0m\u001b[1;32m     41\u001b[0m \u001b[0;32mprint\u001b[0m\u001b[0;34m(\u001b[0m\u001b[0mVsol\u001b[0m\u001b[0;34m.\u001b[0m\u001b[0mRemoveTermsWithSmallCoefficients\u001b[0m\u001b[0;34m(\u001b[0m\u001b[0;36m1e-6\u001b[0m\u001b[0;34m)\u001b[0m\u001b[0;34m)\u001b[0m\u001b[0;34m\u001b[0m\u001b[0m\n\u001b[1;32m     42\u001b[0m \u001b[0;34m\u001b[0m\u001b[0m\n",
      "\u001b[0;31mTypeError\u001b[0m: GetSolution(): incompatible function arguments. The following argument types are supported:\n    1. (self: pydrake.solvers.mathematicalprogram.MathematicalProgramResult) -> numpy.ndarray[float64[m, 1]]\n    2. (self: pydrake.solvers.mathematicalprogram.MathematicalProgramResult, arg0: pydrake.symbolic.Variable) -> float\n    3. (self: pydrake.solvers.mathematicalprogram.MathematicalProgramResult, arg0: numpy.ndarray[object[m, 1]]) -> numpy.ndarray[float64[m, 1]]\n    4. (self: pydrake.solvers.mathematicalprogram.MathematicalProgramResult, arg0: numpy.ndarray[object[m, n]]) -> numpy.ndarray[float64[m, n]]\n\nInvoked with: <pydrake.solvers.mathematicalprogram.MathematicalProgramResult object at 0x11610d7f0>, <Expression \"(a(9) + (s(0) * c(0) * a(4)) + (s(0) * thetadot(0) * a(3)) + (s(0) * a(8)) + (pow(s(0), 2) * a(5)) + (c(0) * thetadot(0) * a(1)) + (c(0) * a(7)) + (pow(c(0), 2) * a(2)) + (thetadot(0) * a(6)) + (pow(thetadot(0), 2) * a(0)))\">"
     ]
    }
   ],
   "source": [
    "import numpy as np\n",
    "from pydrake.all import MathematicalProgram, Solve, Variables\n",
    "from pydrake.symbolic import Polynomial\n",
    "from pydrake.examples.pendulum import PendulumParams\n",
    "\n",
    "prog = MathematicalProgram()\n",
    "\n",
    "# Declare the \"indeterminates\", x.  These are the variables which define the polynomials, \n",
    "# but are NOT decision variables in the optimization.  We will add constraints below that \n",
    "# must hold FOR ALL x.\n",
    "s = prog.NewIndeterminates(1, 's')[0]\n",
    "c = prog.NewIndeterminates(1, 'c')[0]\n",
    "thetadot = prog.NewIndeterminates(1, 'thetadot')[0]\n",
    "# TODO(russt): bind the sugar methods so I can write x = prog.NewIndeterminates(['s','c','thetadot'])\n",
    "x = np.array([s, c, thetadot])\n",
    "\n",
    "# Write out the dynamics in terms of sin(theta), cos(theta), and thetadot\n",
    "p = PendulumParams()\n",
    "f = [ c*thetadot, -s*thetadot, (-p.damping()*thetadot - p.mass()*p.gravity()*p.length()*s)/(p.mass()*p.length()*p.length())]\n",
    "\n",
    "# The fixed-point in this coordinate\n",
    "x0 = np.array([0,1,0])\n",
    "\n",
    "# Construct a polynomial V that contains all monomials with s,c,thetadot up to degree 2\n",
    "deg_V = 2\n",
    "V = prog.NewFreePolynomial(Variables(x), deg_V).ToExpression()\n",
    "\n",
    "# Add a constraint to enforce that V is strictly positive away from x0.\n",
    "# (Note that because our coordinate system is sine and cosine, V is also zero at theta=2pi, etc)\n",
    "eps = 1e-4\n",
    "constraint1 = prog.AddSosConstraint(V - eps*(x-x0).dot(x-x0))  # V is strictly positive away from x0\n",
    "\n",
    "# Construct the polynomial which is the time derivative of V.\n",
    "Vdot = V.Jacobian(x).dot(f)\n",
    "\n",
    "# Construct a polynomial L representing the \"Lagrange multiplier\".\n",
    "deg_L = 2;\n",
    "L = prog.NewFreePolynomial(Variables(x), deg_L).ToExpression()\n",
    "\n",
    "# Add a constraint that Vdot is strictly negative away from x0 (but make an exception for the\n",
    "# upright fixed point by multipling by s^2)\n",
    "constraint2 = prog.AddSosConstraint( -Vdot - L*(s**2+c**2-1) - eps*(x-x0).dot(x-x0)*s**2 )\n",
    "\n",
    "# Add V(0) = 0 constraint\n",
    "constraint3 = prog.AddLinearConstraint(V.Substitute({s: 0, c: 1, thetadot: 0}) == 0)\n",
    "\n",
    "# Call the solver.\n",
    "result = Solve(prog)\n",
    "assert(result.is_success())\n",
    "\n",
    "# Note that I've added mgl to the potential energy (relative to the textbook), so \n",
    "# that it would be non-negative... like the Lyapunov function.\n",
    "print('Mechanical Energy = ')\n",
    "print(.5*p.mass()*p.length()**2*thetadot**2 + p.mass()*p.gravity()*p.length()*(1-c))\n",
    "\n",
    "print('V =')\n",
    "Vsol = Polynomial(result.GetSolution(V));\n",
    "print(Vsol.RemoveTermsWithSmallCoefficients(1e-6))\n",
    "\n"
   ]
  },
  {
   "cell_type": "code",
   "execution_count": 4,
   "metadata": {},
   "outputs": [
    {
     "ename": "NameError",
     "evalue": "name 'Vsol' is not defined",
     "output_type": "error",
     "traceback": [
      "\u001b[0;31m---------------------------------------------------------------------------\u001b[0m",
      "\u001b[0;31mNameError\u001b[0m                                 Traceback (most recent call last)",
      "\u001b[0;32m<ipython-input-4-20e11e22baab>\u001b[0m in \u001b[0;36m<module>\u001b[0;34m()\u001b[0m\n\u001b[1;32m     16\u001b[0m         \u001b[0menv\u001b[0m\u001b[0;34m[\u001b[0m\u001b[0mc\u001b[0m\u001b[0;34m]\u001b[0m \u001b[0;34m=\u001b[0m \u001b[0mnp\u001b[0m\u001b[0;34m.\u001b[0m\u001b[0mcos\u001b[0m\u001b[0;34m(\u001b[0m\u001b[0mQ\u001b[0m\u001b[0;34m[\u001b[0m\u001b[0mi\u001b[0m\u001b[0;34m,\u001b[0m \u001b[0mj\u001b[0m\u001b[0;34m]\u001b[0m\u001b[0;34m)\u001b[0m\u001b[0;34m\u001b[0m\u001b[0m\n\u001b[1;32m     17\u001b[0m         \u001b[0menv\u001b[0m\u001b[0;34m[\u001b[0m\u001b[0mthetadot\u001b[0m\u001b[0;34m]\u001b[0m \u001b[0;34m=\u001b[0m \u001b[0mQD\u001b[0m\u001b[0;34m[\u001b[0m\u001b[0mi\u001b[0m\u001b[0;34m,\u001b[0m \u001b[0mj\u001b[0m\u001b[0;34m]\u001b[0m\u001b[0;34m\u001b[0m\u001b[0m\n\u001b[0;32m---> 18\u001b[0;31m         \u001b[0mVplot\u001b[0m\u001b[0;34m[\u001b[0m\u001b[0mi\u001b[0m\u001b[0;34m,\u001b[0m \u001b[0mj\u001b[0m\u001b[0;34m]\u001b[0m \u001b[0;34m=\u001b[0m \u001b[0mVsol\u001b[0m\u001b[0;34m.\u001b[0m\u001b[0mEvaluate\u001b[0m\u001b[0;34m(\u001b[0m\u001b[0menv\u001b[0m\u001b[0;34m)\u001b[0m\u001b[0;34m\u001b[0m\u001b[0m\n\u001b[0m\u001b[1;32m     19\u001b[0m         \u001b[0mEnergy\u001b[0m\u001b[0;34m[\u001b[0m\u001b[0mi\u001b[0m\u001b[0;34m,\u001b[0m \u001b[0mj\u001b[0m\u001b[0;34m]\u001b[0m \u001b[0;34m=\u001b[0m \u001b[0;36m.5\u001b[0m\u001b[0;34m*\u001b[0m\u001b[0mp\u001b[0m\u001b[0;34m.\u001b[0m\u001b[0mmass\u001b[0m\u001b[0;34m(\u001b[0m\u001b[0;34m)\u001b[0m\u001b[0;34m*\u001b[0m\u001b[0mp\u001b[0m\u001b[0;34m.\u001b[0m\u001b[0mlength\u001b[0m\u001b[0;34m(\u001b[0m\u001b[0;34m)\u001b[0m\u001b[0;34m**\u001b[0m\u001b[0;36m2\u001b[0m\u001b[0;34m*\u001b[0m\u001b[0mQD\u001b[0m\u001b[0;34m[\u001b[0m\u001b[0mi\u001b[0m\u001b[0;34m,\u001b[0m \u001b[0mj\u001b[0m\u001b[0;34m]\u001b[0m\u001b[0;34m**\u001b[0m\u001b[0;36m2\u001b[0m \u001b[0;34m+\u001b[0m \u001b[0mp\u001b[0m\u001b[0;34m.\u001b[0m\u001b[0mmass\u001b[0m\u001b[0;34m(\u001b[0m\u001b[0;34m)\u001b[0m\u001b[0;34m*\u001b[0m\u001b[0mp\u001b[0m\u001b[0;34m.\u001b[0m\u001b[0mgravity\u001b[0m\u001b[0;34m(\u001b[0m\u001b[0;34m)\u001b[0m\u001b[0;34m*\u001b[0m\u001b[0mp\u001b[0m\u001b[0;34m.\u001b[0m\u001b[0mlength\u001b[0m\u001b[0;34m(\u001b[0m\u001b[0;34m)\u001b[0m\u001b[0;34m*\u001b[0m\u001b[0;34m(\u001b[0m\u001b[0;36m1\u001b[0m\u001b[0;34m-\u001b[0m\u001b[0mnp\u001b[0m\u001b[0;34m.\u001b[0m\u001b[0mcos\u001b[0m\u001b[0;34m(\u001b[0m\u001b[0mQ\u001b[0m\u001b[0;34m[\u001b[0m\u001b[0mi\u001b[0m\u001b[0;34m,\u001b[0m \u001b[0mj\u001b[0m\u001b[0;34m]\u001b[0m\u001b[0;34m)\u001b[0m\u001b[0;34m)\u001b[0m\u001b[0;34m\u001b[0m\u001b[0m\n\u001b[1;32m     20\u001b[0m \u001b[0;34m\u001b[0m\u001b[0m\n",
      "\u001b[0;31mNameError\u001b[0m: name 'Vsol' is not defined"
     ]
    }
   ],
   "source": [
    "%matplotlib notebook  \n",
    "import matplotlib.pyplot as plt\n",
    "\n",
    "# Plot the results\n",
    "nq = 151\n",
    "nqd = 151\n",
    "q = np.linspace(-2*np.pi, 2*np.pi, nq)\n",
    "qd = np.linspace(-2*p.mass()*p.gravity()*p.length(), 2*p.mass()*p.gravity()*p.length(), nqd)\n",
    "Q, QD = np.meshgrid(q, qd)\n",
    "Vplot = Q.copy()\n",
    "Energy = Q.copy()\n",
    "env = {s: 0., c: 1., thetadot: 0}\n",
    "for i in range(nq):\n",
    "    for j in range(nqd):\n",
    "        env[s] = np.sin(Q[i, j])\n",
    "        env[c] = np.cos(Q[i, j])\n",
    "        env[thetadot] = QD[i, j]\n",
    "        Vplot[i, j] = Vsol.Evaluate(env)\n",
    "        Energy[i, j] = .5*p.mass()*p.length()**2*QD[i, j]**2 + p.mass()*p.gravity()*p.length()*(1-np.cos(Q[i, j]))\n",
    "    \n",
    "#plt.rc('text', usetex=True)\n",
    "fig, ax = plt.subplots()\n",
    "ax.contour(Q,QD,Vplot)\n",
    "ax.contour(Q,QD,Energy)\n",
    "ax.set_xlabel('theta')\n",
    "ax.set_ylabel('thetadot')\n",
    "ax.set_title('V')\n",
    "\n",
    "plt.savefig(\"pend_global_sos.svg\")\n",
    "\n",
    "plt.show()"
   ]
  },
  {
   "cell_type": "code",
   "execution_count": 6,
   "metadata": {},
   "outputs": [
    {
     "name": "stdout",
     "output_type": "stream",
     "text": [
      "qdot\n",
      "(( - 0.10000000000000001 * qdot - 4.9050000000000002 * sin(q)) / 0.25)\n"
     ]
    }
   ],
   "source": [
    "# Note: We hard-coded the dynamics above (because we chose to rewrite the coordinate system), \n",
    "# but would normally get the equations directly (symbolically) from the plant.  \n",
    "# I've included a simple example below.\n",
    "\n",
    "from pydrake.all import Variable\n",
    "from pydrake.examples.pendulum import PendulumPlant\n",
    "\n",
    "plant = PendulumPlant().ToSymbolic()\n",
    "context = plant.CreateDefaultContext()\n",
    "x = [Variable(\"q\"), Variable(\"qdot\")]\n",
    "context.SetContinuousState(x)\n",
    "context.FixInputPort(0, [0])\n",
    "f = plant.EvalTimeDerivatives(context).get_vector().CopyToVector()\n",
    "\n",
    "print(f[0])\n",
    "print(f[1])\n"
   ]
  },
  {
   "cell_type": "code",
   "execution_count": null,
   "metadata": {},
   "outputs": [],
   "source": []
  }
 ],
 "metadata": {
  "kernelspec": {
   "display_name": "Python 2",
   "language": "python",
   "name": "python2"
  },
  "language_info": {
   "codemirror_mode": {
    "name": "ipython",
    "version": 2
   },
   "file_extension": ".py",
   "mimetype": "text/x-python",
   "name": "python",
   "nbconvert_exporter": "python",
   "pygments_lexer": "ipython2",
   "version": "2.7.15"
  }
 },
 "nbformat": 4,
 "nbformat_minor": 2
}
