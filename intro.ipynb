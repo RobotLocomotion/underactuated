{
 "cells": [
  {
   "cell_type": "markdown",
   "metadata": {
    "colab_type": "text",
    "id": "TKvYiJgnYExi"
   },
   "source": [
    "This notebook provides examples to go along with the [textbook](http://underactuated.csail.mit.edu/intro.html).  I recommend having both windows open, side-by-side!\n",
    "\n",
    "[Click here](http://underactuated.csail.mit.edu/drake.html#notebooks) for instructions on how to run the notebook on Deepnote and/or Google Colab."
   ]
  },
  {
   "cell_type": "code",
   "execution_count": null,
   "metadata": {
    "colab": {},
    "colab_type": "code",
    "id": "A4QOaw_zYLfI"
   },
   "outputs": [],
   "source": [
    "import matplotlib.pyplot as plt\n",
    "import mpld3\n",
    "import numpy as np\n",
    "from IPython.display import Math, display\n",
    "from pydrake.all import (AddMultibodyPlantSceneGraph, DiagramBuilder,\n",
    "                         LogVectorOutput, MeshcatVisualizerCpp, MultibodyPlant,\n",
    "                         Parser, Simulator, StartMeshcat, ToLatex, Variable,\n",
    "                         VectorSystem)\n",
    "\n",
    "from underactuated import (FindResource, ManipulatorDynamics,\n",
    "                           running_as_notebook)\n",
    "\n",
    "if running_as_notebook:\n",
    "    mpld3.enable_notebook()\n"
   ]
  },
  {
   "cell_type": "code",
   "execution_count": null,
   "metadata": {},
   "outputs": [],
   "source": [
    "# Start the visualizer (run this cell only once, each instance consumes a port)\n",
    "meshcat = StartMeshcat()"
   ]
  },
  {
   "cell_type": "markdown",
   "metadata": {
    "colab_type": "text",
    "id": "C1sdq2R88C16"
   },
   "source": [
    "# Dynamics of the Double Pendulum\n",
    "\n",
    "This first cell gives an example of how to run a simulation and animate the results.\n"
   ]
  },
  {
   "cell_type": "code",
   "execution_count": null,
   "metadata": {
    "colab": {},
    "colab_type": "code",
    "id": "8wj7ZlyEw_AB"
   },
   "outputs": [],
   "source": [
    "def double_pendulum_demo():\n",
    "    # Set up a block diagram with the robot (dynamics) and a visualization block.\n",
    "    builder = DiagramBuilder()\n",
    "    plant, scene_graph = AddMultibodyPlantSceneGraph(builder, time_step=0.0)\n",
    "\n",
    "    # Load the double pendulum from Universal Robot Description Format\n",
    "    parser = Parser(plant, scene_graph)\n",
    "    parser.AddModelFromFile(FindResource(\"models/double_pendulum.urdf\"))\n",
    "    plant.Finalize()\n",
    "\n",
    "    builder.ExportInput(plant.get_actuation_input_port())\n",
    "    MeshcatVisualizerCpp.AddToBuilder(builder, scene_graph, meshcat)\n",
    "    meshcat.Set2dRenderMode(xmin=-2.8, xmax=2.8, ymin=-2.8, ymax=2.8)\n",
    "\n",
    "    logger = LogVectorOutput(plant.get_state_output_port(), builder)\n",
    "\n",
    "    diagram = builder.Build()\n",
    "\n",
    "    # Set up a simulator to run this diagram\n",
    "    simulator = Simulator(diagram)\n",
    "\n",
    "    if running_as_notebook:\n",
    "        simulator.set_target_realtime_rate(1.0)\n",
    "\n",
    "    # Set the initial conditions\n",
    "    context = simulator.get_mutable_context()\n",
    "    context.SetContinuousState([1., 1., 0., 0.])  # (theta1, theta2, theta1dot, theta2dot)\n",
    "    diagram.get_input_port(0).FixValue(context, [0.,0.])   # Zero input torques\n",
    "\n",
    "    # Simulate\n",
    "    simulator.AdvanceTo(10.0)\n",
    "\n",
    "    # Plot the results\n",
    "    plt.figure()\n",
    "    fields = [\"shoulder\", \"elbow\"]\n",
    "    log = logger.FindLog(context)\n",
    "    for i in range(2):\n",
    "        plt.subplot(2, 1, i+1)\n",
    "        plt.plot(log.sample_times(), log.data()[(i, i+2), :].transpose())\n",
    "        plt.legend([\"position\", \"velocity\"])\n",
    "        plt.xlabel('t')\n",
    "        plt.ylabel(fields[i])\n",
    "        plt.grid(True)\n",
    "    display(mpld3.display())\n",
    "\n",
    "double_pendulum_demo()"
   ]
  },
  {
   "cell_type": "markdown",
   "metadata": {},
   "source": [
    "It's worth taking a peek at the [file that describes the robot](https://github.com/RussTedrake/underactuated/blob/master/underactuated/models/double_pendulum.urdf). URDF and SDF are two of the standard formats, and they can be used to describe even very complicated robots (like the Boston Dynamics humanoid).\n",
    "\n",
    "## Inspecting the dynamics (the manipulator equations)\n",
    "\n",
    "We can also use Drake to evaluate the manipulator equations.  First we will evaluate the manipulator equations for a particular robot (with numerical values assigned for mass, link lengths, etc) and for a particular state of the robot.\n"
   ]
  },
  {
   "cell_type": "code",
   "execution_count": null,
   "metadata": {},
   "outputs": [],
   "source": [
    "plant = MultibodyPlant(time_step=0)\n",
    "parser = Parser(plant)\n",
    "parser.AddModelFromFile(FindResource(\"models/double_pendulum.urdf\"))\n",
    "plant.Finalize()\n",
    "\n",
    "# Evaluate the dynamics numerically\n",
    "q = [0.1, 0.1]\n",
    "v = [1, 1]\n",
    "(M, Cv, tauG, B, tauExt) = ManipulatorDynamics(plant, q, v)\n",
    "display(Math(\"M = \" + ToLatex(M, precision=2)))\n",
    "display(Math(\"Cv = \" + ToLatex(Cv, precision=2)))\n",
    "display(Math(\"\\\\tau_G = \" + ToLatex(tauG, precision=2)))\n",
    "display(Math(\"B = \" + ToLatex(B, precision=2)))\n",
    "display(Math(\"\\\\tau_{ext} = \" + ToLatex(tauExt, precision=2)))\n"
   ]
  },
  {
   "cell_type": "markdown",
   "metadata": {},
   "source": [
    "Drake is also fairly unique in supporting symbolic computation (with floating point coefficients).  Here is an example of printing out the symbolic dynamics of the double pendulum.  (If you've ever written out the equations of your robot, you know they get complicated quickly!)"
   ]
  },
  {
   "cell_type": "code",
   "execution_count": null,
   "metadata": {},
   "outputs": [],
   "source": [
    "# Evaluate the dynamics symbolically\n",
    "q = [Variable(\"\\\\theta_0\"), Variable(\"\\\\theta_1\")]\n",
    "v = [Variable(\"\\\\dot\\\\theta_0\"), Variable(\"\\\\dot\\\\theta_1\")]\n",
    "(M, Cv, tauG, B, tauExt) = ManipulatorDynamics(plant.ToSymbolic(), q, v)\n",
    "display(Math(\"M = \" + ToLatex(M, precision=2)))\n",
    "display(Math(\"Cv = \" + ToLatex(Cv, precision=2)))\n",
    "display(Math(\"\\\\tau_G = \" + ToLatex(tauG, precision=2)))\n",
    "display(Math(\"B = \" + ToLatex(B, precision=2)))\n",
    "display(Math(\"\\\\tau_{ext} = \" + ToLatex(tauExt, precision=2)))\n"
   ]
  },
  {
   "cell_type": "markdown",
   "metadata": {},
   "source": [
    "We use a similar mechanisms to support automatic differentiation; we'll see examples of that soon!"
   ]
  },
  {
   "cell_type": "markdown",
   "metadata": {},
   "source": [
    "# Feedback Cancellation of the Double Pendulum\n",
    "\n",
    "Let's say that we would like our simple double pendulum to act like a\n",
    "simple single pendulum (with damping), whose dynamics are given by:\n",
    "$$\\begin{aligned} \\ddot \\theta_1 &= -\\frac{g}{l}\\sin\\theta_1 -b\\dot\\theta_1 \\\\ \\ddot\\theta_2 &= 0. \\end{aligned}$$\n",
    "\n",
    "This is easily achieved using\n",
    "(Note that our chosen dynamics do not actually stabilize $\\theta_2$ -- this detail was left out for clarity, but would be necessary for any real\n",
    "implementation.) \n",
    "$${\\bf u}  = {\\bf B}^{-1}\\left[ {\\bf C}\\dot{{\\bf q}} - {\\bf \\tau}_g + {\\bf M}\\begin{bmatrix} -\\frac{g}{l}s_1 - b\\dot{q}_1 \\\\ 0 \\end{bmatrix} \\right].$$\n",
    "\n",
    "Since we are embedding a nonlinear dynamics (not a linear one), we refer\n",
    "to this as \"feedback cancellation\", or \"dynamic inversion\".  This idea can,\n",
    "and does, make control look easy - for the special case of a fully-actuated\n",
    "deterministic system with known dynamics.  For example, it would have been\n",
    "just as easy for me to invert gravity. Observe that the control derivations\n",
    "here would not have been any more difficult if the robot had 100 joints.\n",
    "\n",
    "## Acting like a single pendulum\n",
    "\n",
    "First we implement our simple controller as a system that takes the pendulum state in, and outputs the motor torque."
   ]
  },
  {
   "cell_type": "code",
   "execution_count": null,
   "metadata": {},
   "outputs": [],
   "source": [
    "class Controller(VectorSystem):\n",
    "    \"\"\"Defines a feedback controller for the double pendulum.\n",
    "\n",
    "    The controller applies torques at the joints in order to:\n",
    "\n",
    "    1) cancel out the dynamics of the double pendulum,\n",
    "    2) make the first joint swing with the dynamics of a single pendulum, and\n",
    "    3) drive the second joint towards zero.\n",
    "\n",
    "    The magnitude of gravity for the imposed single pendulum dynamics is taken\n",
    "    as a constructor argument.  So you can do fun things like pretending that\n",
    "    gravity is zero, or even inverting gravity!\n",
    "    \"\"\"\n",
    "\n",
    "    def __init__(self, multibody_plant, gravity):\n",
    "        # 4 inputs (double pend state), 2 torque outputs.\n",
    "        VectorSystem.__init__(self, 4, 2)\n",
    "        self.plant = multibody_plant\n",
    "        self.g = gravity\n",
    "\n",
    "    def DoCalcVectorOutput(self, context, double_pend_state, unused, torque):\n",
    "        # Extract manipulator dynamics.\n",
    "        q = double_pend_state[:2]\n",
    "        v = double_pend_state[-2:]\n",
    "        (M, Cv, tauG, B, tauExt) = ManipulatorDynamics(self.plant, q, v)\n",
    "\n",
    "        # Desired pendulum parameters.\n",
    "        length = 2.\n",
    "        b = .1\n",
    "\n",
    "        # Control gains for stabilizing the second joint.\n",
    "        kp = 1\n",
    "        kd = .1\n",
    "\n",
    "        # Cancel double pend dynamics and inject single pend dynamics.\n",
    "        torque[:] = Cv - tauG - tauExt + M.dot(\n",
    "            [self.g / length * np.sin(q[0]) - b * v[0], -kp * q[1] - kd * v[1]])\n",
    "\n",
    "\n",
    "def simulate(gravity=-9.8):      \n",
    "    builder = DiagramBuilder()\n",
    "    plant, scene_graph = AddMultibodyPlantSceneGraph(builder, time_step=0.0)\n",
    "\n",
    "    # Load the double pendulum from Universal Robot Description Format\n",
    "    parser = Parser(plant, scene_graph)\n",
    "    parser.AddModelFromFile(FindResource(\"models/double_pendulum.urdf\"))\n",
    "    plant.Finalize()\n",
    "\n",
    "    controller = builder.AddSystem(Controller(plant, gravity))\n",
    "    builder.Connect(plant.get_state_output_port(), controller.get_input_port(0))\n",
    "    builder.Connect(controller.get_output_port(0), plant.get_actuation_input_port())\n",
    "\n",
    "    MeshcatVisualizerCpp.AddToBuilder(builder, scene_graph, meshcat)\n",
    "    meshcat.Set2dRenderMode(xmin=-2.8, xmax=2.8, ymin=-2.8, ymax=2.8)\n",
    "\n",
    "    diagram = builder.Build()\n",
    "\n",
    "    # Set up a simulator to run this diagram\n",
    "    simulator = Simulator(diagram)\n",
    "    if running_as_notebook:\n",
    "        simulator.set_target_realtime_rate(1.0)\n",
    "\n",
    "    # Set the initial conditions\n",
    "    context = simulator.get_mutable_context()\n",
    "    context.SetContinuousState((1., 0., 0.2, 0.))  # (θ₁, θ₂, θ̇₁, θ̇₂)\n",
    "\n",
    "    # Simulate\n",
    "    simulator.AdvanceTo(3.0)"
   ]
  },
  {
   "cell_type": "markdown",
   "metadata": {},
   "source": [
    "If we simulate this system with the default parameters (gravity = -9.8m/s), then our double pendulum acts like a single pendulum."
   ]
  },
  {
   "cell_type": "code",
   "execution_count": null,
   "metadata": {},
   "outputs": [],
   "source": [
    "simulate()"
   ]
  },
  {
   "cell_type": "markdown",
   "metadata": {},
   "source": [
    "But if we've gone this far, we could have replaced the dynamics with almost anything.  For instance, with a simple change, we can use feedback cancellation to invert gravity!"
   ]
  },
  {
   "cell_type": "code",
   "execution_count": null,
   "metadata": {},
   "outputs": [],
   "source": [
    "simulate(gravity=9.8)"
   ]
  }
 ],
 "metadata": {
  "colab": {
   "collapsed_sections": [],
   "name": "Underactuated Robotics - Introduction.ipynb",
   "provenance": [],
   "toc_visible": true
  },
  "kernelspec": {
   "display_name": "Python 3.6.9 64-bit",
   "language": "python",
   "name": "python3"
  },
  "language_info": {
   "codemirror_mode": {
    "name": "ipython",
    "version": 3
   },
   "file_extension": ".py",
   "mimetype": "text/x-python",
   "name": "python",
   "nbconvert_exporter": "python",
   "pygments_lexer": "ipython3",
   "version": "3.8.10"
  }
 },
 "nbformat": 4,
 "nbformat_minor": 1
}
