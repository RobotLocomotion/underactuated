{
 "cells": [
  {
   "cell_type": "markdown",
   "metadata": {
    "colab_type": "text",
    "id": "TKvYiJgnYExi"
   },
   "source": [
    "This notebook provides examples to go along with the [textbook](https://underactuated.csail.mit.edu/intro.html).  I recommend having both windows open, side-by-side!\n"
   ]
  },
  {
   "cell_type": "code",
   "execution_count": null,
   "metadata": {
    "colab": {},
    "colab_type": "code",
    "id": "A4QOaw_zYLfI"
   },
   "outputs": [],
   "source": [
    "import matplotlib.pyplot as plt\n",
    "import mpld3\n",
    "import numpy as np\n",
    "from IPython.display import Markdown, display\n",
    "from pydrake.all import (\n",
    "    AddMultibodyPlantSceneGraph,\n",
    "    DiagramBuilder,\n",
    "    Expression,\n",
    "    LogVectorOutput,\n",
    "    MakeVectorVariable,\n",
    "    MeshcatVisualizer,\n",
    "    MultibodyPlant,\n",
    "    Parser,\n",
    "    RigidTransform_,\n",
    "    Simulator,\n",
    "    SpatialInertia_,\n",
    "    StartMeshcat,\n",
    "    ToLatex,\n",
    "    UnitInertia_,\n",
    "    VectorSystem,\n",
    ")\n",
    "\n",
    "from underactuated import ConfigureParser, ManipulatorDynamics, running_as_notebook\n",
    "\n",
    "if running_as_notebook:\n",
    "    mpld3.enable_notebook()"
   ]
  },
  {
   "cell_type": "code",
   "execution_count": null,
   "metadata": {},
   "outputs": [],
   "source": [
    "# Start the visualizer (run this cell only once, each instance consumes a port)\n",
    "meshcat = StartMeshcat()"
   ]
  },
  {
   "cell_type": "markdown",
   "metadata": {
    "colab_type": "text",
    "id": "C1sdq2R88C16"
   },
   "source": [
    "# Dynamics of the Double Pendulum\n",
    "\n",
    "This first cell gives an example of how to run a simulation and animate the results.\n"
   ]
  },
  {
   "cell_type": "code",
   "execution_count": null,
   "metadata": {
    "colab": {},
    "colab_type": "code",
    "id": "8wj7ZlyEw_AB"
   },
   "outputs": [],
   "source": [
    "def double_pendulum_demo():\n",
    "    # Set up a block diagram with the robot (dynamics) and a visualization block.\n",
    "    builder = DiagramBuilder()\n",
    "    plant, scene_graph = AddMultibodyPlantSceneGraph(builder, time_step=0.0)\n",
    "\n",
    "    # Load the double pendulum from Universal Robot Description Format\n",
    "    parser = Parser(plant)\n",
    "    ConfigureParser(parser)\n",
    "    parser.AddModelsFromUrl(\"package://underactuated/models/double_pendulum.urdf\")\n",
    "    plant.Finalize()\n",
    "\n",
    "    builder.ExportInput(plant.get_actuation_input_port())\n",
    "    MeshcatVisualizer.AddToBuilder(builder, scene_graph, meshcat)\n",
    "    meshcat.Set2dRenderMode(xmin=-2.8, xmax=2.8, ymin=-2.8, ymax=2.8)\n",
    "\n",
    "    logger = LogVectorOutput(plant.get_state_output_port(), builder)\n",
    "\n",
    "    diagram = builder.Build()\n",
    "\n",
    "    # Set up a simulator to run this diagram\n",
    "    simulator = Simulator(diagram)\n",
    "\n",
    "    if running_as_notebook:\n",
    "        simulator.set_target_realtime_rate(1.0)\n",
    "\n",
    "    # Set the initial conditions\n",
    "    context = simulator.get_mutable_context()\n",
    "    context.SetContinuousState(\n",
    "        [1.0, 1.0, 0.0, 0.0]\n",
    "    )  # (theta1, theta2, theta1dot, theta2dot)\n",
    "    diagram.get_input_port(0).FixValue(context, [0.0, 0.0])  # Zero input torques\n",
    "\n",
    "    # Simulate\n",
    "    simulator.AdvanceTo(10.0)\n",
    "\n",
    "    # Plot the results\n",
    "    plt.figure()\n",
    "    fields = [\"shoulder\", \"elbow\"]\n",
    "    log = logger.FindLog(context)\n",
    "    for i in range(2):\n",
    "        plt.subplot(2, 1, i + 1)\n",
    "        plt.plot(log.sample_times(), log.data()[(i, i + 2), :].transpose())\n",
    "        plt.legend([\"position\", \"velocity\"])\n",
    "        plt.xlabel(\"t\")\n",
    "        plt.ylabel(fields[i])\n",
    "        plt.grid(True)\n",
    "    display(mpld3.display())\n",
    "\n",
    "\n",
    "double_pendulum_demo()"
   ]
  },
  {
   "cell_type": "markdown",
   "metadata": {},
   "source": [
    "**NOTE** Make sure you open up the meshcat window (the url is output in your link above) to see the animation.\n",
    "\n",
    "It's worth taking a peek at the [file that describes the robot](https://github.com/RussTedrake/underactuated/blob/master/underactuated/models/double_pendulum.urdf). URDF and SDF are two of the standard formats, and they can be used to describe even very complicated robots (like the Boston Dynamics humanoid).\n",
    "\n",
    "## Inspecting the dynamics (the manipulator equations)\n",
    "\n",
    "We can also use Drake to evaluate the manipulator equations.  First we will evaluate the manipulator equations for a particular robot (with numerical values assigned for mass, link lengths, etc) and for a particular state of the robot.\n"
   ]
  },
  {
   "cell_type": "code",
   "execution_count": null,
   "metadata": {},
   "outputs": [],
   "source": [
    "plant = MultibodyPlant(time_step=0)\n",
    "parser = Parser(plant)\n",
    "ConfigureParser(parser)\n",
    "parser.AddModelsFromUrl(\"package://underactuated/models/double_pendulum.urdf\")\n",
    "plant.Finalize()\n",
    "\n",
    "# Evaluate the dynamics numerically\n",
    "q = [0.1, 0.1]\n",
    "v = [1, 1]\n",
    "(M, Cv, tauG, B, tauExt) = ManipulatorDynamics(plant, q, v)\n",
    "display(Markdown(\"$M = \" + ToLatex(M, precision=2) + \"$\"))\n",
    "display(Markdown(\"$Cv = \" + ToLatex(Cv, precision=2) + \"$\"))\n",
    "display(Markdown(\"$\\\\tau_G = \" + ToLatex(tauG, precision=2) + \"$\"))\n",
    "display(Markdown(\"$B = \" + ToLatex(B, precision=2) + \"$\"))\n",
    "display(Markdown(\"$\\\\tau_{ext} = \" + ToLatex(tauExt, precision=2) + \"$\"))"
   ]
  },
  {
   "cell_type": "markdown",
   "metadata": {},
   "source": [
    "Drake is also fairly unique in supporting symbolic computation (with floating point coefficients).  Here is an example of printing out the symbolic dynamics of the double pendulum.  (If you've ever written out the equations of your robot, you know they get complicated quickly!)"
   ]
  },
  {
   "cell_type": "code",
   "execution_count": null,
   "metadata": {},
   "outputs": [],
   "source": [
    "# Evaluate the dynamics symbolically\n",
    "\n",
    "\n",
    "def SymbolicManipulatorEquations():\n",
    "    plant = MultibodyPlant(time_step=0)\n",
    "    parser = Parser(plant)\n",
    "    ConfigureParser(parser)\n",
    "    parser.AddModelsFromUrl(\"package://underactuated/models/double_pendulum.urdf\")\n",
    "    plant.Finalize()\n",
    "\n",
    "    sym_plant = plant.ToSymbolic()\n",
    "    sym_context = sym_plant.CreateDefaultContext()\n",
    "\n",
    "    # State variables\n",
    "    q = MakeVectorVariable(2, \"q\")\n",
    "    v = MakeVectorVariable(2, \"v\")\n",
    "    vd = MakeVectorVariable(2, \"\\dot{v}\")\n",
    "\n",
    "    # Parameters\n",
    "    m = MakeVectorVariable(2, \"m\")\n",
    "    l = MakeVectorVariable(2, \"l\")\n",
    "\n",
    "    # TODO: pending https://github.com/RobotLocomotion/drake/issues/17245\n",
    "    # g = Variable(\"g\")\n",
    "    # sym_plant.mutable_gravity_field().SetGravityVector(sym_context, [0, 0, -g])\n",
    "\n",
    "    upper_arm = sym_plant.GetBodyByName(\"upper_arm\")\n",
    "    inertia = SpatialInertia_[Expression](\n",
    "        m[0],\n",
    "        [0, 0, -l[0]],\n",
    "        UnitInertia_[Expression](l[0] * l[0], l[0] * l[0], 0),\n",
    "    )\n",
    "    upper_arm.SetSpatialInertiaInBodyFrame(sym_context, inertia)\n",
    "    lower_arm = sym_plant.GetBodyByName(\"lower_arm\")\n",
    "    inertia = SpatialInertia_[Expression](\n",
    "        m[1],\n",
    "        [0, 0, -l[1]],\n",
    "        UnitInertia_[Expression](l[1] * l[1], l[1] * l[1], 0),\n",
    "    )\n",
    "    lower_arm.SetSpatialInertiaInBodyFrame(sym_context, inertia)\n",
    "    elbow_frame = sym_plant.GetJointByName(\"elbow\").frame_on_parent()\n",
    "    elbow_frame.SetPoseInParentFrame(\n",
    "        sym_context, RigidTransform_[Expression]([0, 0, -l[0]])\n",
    "    )\n",
    "    (M, Cv, tauG, B, tauExt) = ManipulatorDynamics(sym_plant, q, v, sym_context)\n",
    "    display(Markdown(\"$M = \" + ToLatex(M, precision=2) + \"$\"))\n",
    "    display(Markdown(\"$Cv = \" + ToLatex(Cv, precision=2) + \"$\"))\n",
    "    display(Markdown(\"$\\\\tau_G = \" + ToLatex(tauG, precision=2) + \"$\"))\n",
    "    display(Markdown(\"$B = \" + ToLatex(B, precision=2) + \"$\"))\n",
    "    display(Markdown(\"$\\\\tau_{ext} = \" + ToLatex(tauExt, precision=2) + \"$\"))\n",
    "\n",
    "\n",
    "SymbolicManipulatorEquations()"
   ]
  },
  {
   "cell_type": "markdown",
   "metadata": {},
   "source": [
    "We use a similar mechanisms to support automatic differentiation; we'll see examples of that soon!"
   ]
  },
  {
   "cell_type": "markdown",
   "metadata": {},
   "source": [
    "# Feedback Cancellation of the Double Pendulum\n",
    "\n",
    "Let's say that we would like our simple double pendulum to act like a\n",
    "simple single pendulum (with damping), whose dynamics are given by:\n",
    "$$\\begin{aligned} \\ddot \\theta_1 &= -\\frac{g}{l}\\sin\\theta_1 -b\\dot\\theta_1 \\\\ \\ddot\\theta_2 &= 0. \\end{aligned}$$\n",
    "\n",
    "This is easily achieved using\n",
    "(Note that our chosen dynamics do not actually stabilize $\\theta_2$ -- this detail was left out for clarity, but would be necessary for any real\n",
    "implementation.) \n",
    "$${\\bf u}  = {\\bf B}^{-1}\\left[ {\\bf C}\\dot{{\\bf q}} - {\\bf \\tau}_g + {\\bf M}\\begin{bmatrix} -\\frac{g}{l}s_1 - b\\dot{q}_1 \\\\ 0 \\end{bmatrix} \\right].$$\n",
    "\n",
    "Since we are embedding a nonlinear dynamics (not a linear one), we refer\n",
    "to this as \"feedback cancellation\", or \"dynamic inversion\".  This idea can,\n",
    "and does, make control look easy - for the special case of a fully-actuated\n",
    "deterministic system with known dynamics.  For example, it would have been\n",
    "just as easy for me to invert gravity. Observe that the control derivations\n",
    "here would not have been any more difficult if the robot had 100 joints.\n",
    "\n",
    "## Acting like a single pendulum\n",
    "\n",
    "First we implement our simple controller as a system that takes the pendulum state in, and outputs the motor torque."
   ]
  },
  {
   "cell_type": "code",
   "execution_count": null,
   "metadata": {},
   "outputs": [],
   "source": [
    "class Controller(VectorSystem):\n",
    "    \"\"\"Defines a feedback controller for the double pendulum.\n",
    "\n",
    "    The controller applies torques at the joints in order to:\n",
    "\n",
    "    1) cancel out the dynamics of the double pendulum,\n",
    "    2) make the first joint swing with the dynamics of a single pendulum, and\n",
    "    3) drive the second joint towards zero.\n",
    "\n",
    "    The magnitude of gravity for the imposed single pendulum dynamics is taken\n",
    "    as a constructor argument.  So you can do fun things like pretending that\n",
    "    gravity is zero, or even inverting gravity!\n",
    "    \"\"\"\n",
    "\n",
    "    def __init__(self, multibody_plant, gravity):\n",
    "        # 4 inputs (double pend state), 2 torque outputs.\n",
    "        VectorSystem.__init__(self, 4, 2)\n",
    "        self.plant = multibody_plant\n",
    "        self.g = gravity\n",
    "\n",
    "    def DoCalcVectorOutput(self, context, double_pend_state, unused, torque):\n",
    "        # Extract manipulator dynamics.\n",
    "        q = double_pend_state[:2]\n",
    "        v = double_pend_state[-2:]\n",
    "        (M, Cv, tauG, B, tauExt) = ManipulatorDynamics(self.plant, q, v)\n",
    "\n",
    "        # Desired pendulum parameters.\n",
    "        length = 2.0\n",
    "        b = 0.1\n",
    "\n",
    "        # Control gains for stabilizing the second joint.\n",
    "        kp = 1\n",
    "        kd = 0.1\n",
    "\n",
    "        # Cancel double pend dynamics and inject single pend dynamics.\n",
    "        torque[:] = (\n",
    "            Cv\n",
    "            - tauG\n",
    "            - tauExt\n",
    "            + M.dot(\n",
    "                [\n",
    "                    self.g / length * np.sin(q[0]) - b * v[0],\n",
    "                    -kp * q[1] - kd * v[1],\n",
    "                ]\n",
    "            )\n",
    "        )\n",
    "\n",
    "\n",
    "def simulate(gravity=-9.8):\n",
    "    builder = DiagramBuilder()\n",
    "    plant, scene_graph = AddMultibodyPlantSceneGraph(builder, time_step=0.0)\n",
    "\n",
    "    # Load the double pendulum from Universal Robot Description Format\n",
    "    parser = Parser(plant)\n",
    "    ConfigureParser(parser)\n",
    "    parser.AddModelsFromUrl(\"package://underactuated/models/double_pendulum.urdf\")\n",
    "    plant.Finalize()\n",
    "\n",
    "    controller = builder.AddSystem(Controller(plant, gravity))\n",
    "    builder.Connect(plant.get_state_output_port(), controller.get_input_port(0))\n",
    "    builder.Connect(controller.get_output_port(0), plant.get_actuation_input_port())\n",
    "\n",
    "    MeshcatVisualizer.AddToBuilder(builder, scene_graph, meshcat)\n",
    "    meshcat.Set2dRenderMode(xmin=-2.8, xmax=2.8, ymin=-2.8, ymax=2.8)\n",
    "\n",
    "    diagram = builder.Build()\n",
    "\n",
    "    # Set up a simulator to run this diagram\n",
    "    simulator = Simulator(diagram)\n",
    "    if running_as_notebook:\n",
    "        simulator.set_target_realtime_rate(1.0)\n",
    "\n",
    "    # Set the initial conditions\n",
    "    context = simulator.get_mutable_context()\n",
    "    context.SetContinuousState((1.0, 0.0, 0.2, 0.0))  # (θ₁, θ₂, θ̇₁, θ̇₂)\n",
    "\n",
    "    # Simulate\n",
    "    simulator.AdvanceTo(3.0)"
   ]
  },
  {
   "cell_type": "markdown",
   "metadata": {},
   "source": [
    "If we simulate this system with the default parameters (gravity = -9.8m/s), then our double pendulum acts like a single pendulum."
   ]
  },
  {
   "cell_type": "code",
   "execution_count": null,
   "metadata": {},
   "outputs": [],
   "source": [
    "simulate()"
   ]
  },
  {
   "cell_type": "markdown",
   "metadata": {},
   "source": [
    "**NOTE** Make sure you open up the meshcat window (the url is output in your link above) to see the animation.\n",
    "\n",
    "But if we've gone this far, we could have replaced the dynamics with almost anything.  For instance, with a simple change, we can use feedback cancellation to invert gravity!"
   ]
  },
  {
   "cell_type": "code",
   "execution_count": null,
   "metadata": {},
   "outputs": [],
   "source": [
    "simulate(gravity=9.8)"
   ]
  }
 ],
 "metadata": {
  "colab": {
   "collapsed_sections": [],
   "name": "Underactuated Robotics - Introduction.ipynb",
   "provenance": [],
   "toc_visible": true
  },
  "interpreter": {
   "hash": "b0fa6594d8f4cbf19f97940f81e996739fb7646882a419484c72d19e05852a7e"
  },
  "kernelspec": {
   "display_name": "Python 3.9.12 64-bit",
   "language": "python",
   "name": "python3"
  },
  "language_info": {
   "codemirror_mode": {
    "name": "ipython",
    "version": 3
   },
   "file_extension": ".py",
   "mimetype": "text/x-python",
   "name": "python",
   "nbconvert_exporter": "python",
   "pygments_lexer": "ipython3",
   "version": "3.10.8"
  }
 },
 "nbformat": 4,
 "nbformat_minor": 1
}
