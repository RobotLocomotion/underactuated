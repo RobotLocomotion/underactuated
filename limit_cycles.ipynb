{
 "cells": [
  {
   "cell_type": "markdown",
   "metadata": {},
   "source": [
    "This notebook provides examples to go along with the [textbook](http://underactuated.csail.mit.edu/limit_cycles.html).  I recommend having both windows open, side-by-side!\n",
    "\n",
    "[Click here](http://underactuated.csail.mit.edu/drake.html#notebooks) for instructions on how to run the notebook on Deepnote and/or Google Colab."
   ]
  },
  {
   "cell_type": "code",
   "execution_count": null,
   "metadata": {},
   "outputs": [],
   "source": [
    "import matplotlib.pyplot as plt\n",
    "import mpld3\n",
    "import numpy as np\n",
    "from IPython.display import display\n",
    "from pydrake.all import DirectCollocation, PiecewisePolynomial, Solve\n",
    "from pydrake.examples.van_der_pol import VanDerPolOscillator\n",
    "\n",
    "from underactuated import running_as_notebook\n",
    "\n",
    "if running_as_notebook:\n",
    "    mpld3.enable_notebook()"
   ]
  },
  {
   "cell_type": "markdown",
   "metadata": {},
   "source": [
    "# Finding the limit cycle of the Van der Pol oscillator\n",
    "\n",
    "by setting up a simple trajectory optimization, where the timestep, $h$, is a decision variables."
   ]
  },
  {
   "cell_type": "code",
   "execution_count": null,
   "metadata": {},
   "outputs": [],
   "source": [
    "# TODO(russt): visualize this in meshcat so we can watch the convergence again.\n",
    "\n",
    "def vdp_limit_cycle():\n",
    "    plant = VanDerPolOscillator()\n",
    "    context = plant.CreateDefaultContext()\n",
    "\n",
    "    dircol = DirectCollocation(plant,\n",
    "                            context,\n",
    "                            num_time_samples=61,\n",
    "                            minimum_timestep=0.01,\n",
    "                            maximum_timestep=0.5)\n",
    "    prog = dircol.prog()\n",
    "\n",
    "    # Constrain all timesteps, $h[k]$, to be equal, so the trajectory breaks are evenly distributed.\n",
    "    dircol.AddEqualTimeIntervalsConstraints()\n",
    "\n",
    "    # Initial state on the surface of section (and velocity > .1).\n",
    "    prog.AddBoundingBoxConstraint([0., 0.1], [0., 10.], dircol.initial_state())\n",
    "\n",
    "    # Periodicity constraint.\n",
    "    # TODO(russt): Replace this with the vectorized version pending drake #8315.\n",
    "    prog.AddLinearConstraint(\n",
    "        dircol.final_state()[0] == dircol.initial_state()[0])\n",
    "    prog.AddLinearConstraint(\n",
    "        dircol.final_state()[1] == dircol.initial_state()[1])\n",
    "\n",
    "    # Help the solver with an initial guess (circular trajectory).\n",
    "    samples = np.linspace(0, 2 * np.pi, 10)\n",
    "    x_guess = np.vstack(\n",
    "        ([2 * np.sin(t) for t in samples], [2 * np.cos(t) for t in samples]))\n",
    "    initial_x_trajectory = PiecewisePolynomial.FirstOrderHold(samples, x_guess)\n",
    "\n",
    "    dircol.SetInitialTrajectory(PiecewisePolynomial(), initial_x_trajectory)\n",
    "\n",
    "    fig = plt.figure()\n",
    "    h, = plt.plot([], [], \".-\")\n",
    "    plt.xlim((-2.5, 2.5))\n",
    "    plt.ylim((-3., 3.))\n",
    "\n",
    "    def draw_trajectory(t, x):\n",
    "        h.set_xdata(x[0, :])\n",
    "        h.set_ydata(x[1, :])\n",
    "        fig.canvas.draw()\n",
    "        if plt.get_backend() == u\"MacOSX\":\n",
    "            plt.pause(1e-10)\n",
    "\n",
    "    if False:\n",
    "        dircol.AddStateTrajectoryCallback(draw_trajectory)\n",
    "\n",
    "    result = Solve(prog)\n",
    "    assert result.is_success()\n",
    "\n",
    "    x_trajectory = dircol.ReconstructStateTrajectory(result)\n",
    "\n",
    "    x_knots = np.hstack([\n",
    "        x_trajectory.value(t) for t in np.linspace(x_trajectory.start_time(),\n",
    "                                                x_trajectory.end_time(), 100)\n",
    "    ])\n",
    "    plt.plot(x_knots[0, :], x_knots[1, :])\n",
    "    display(mpld3.display())\n",
    "\n",
    "vdp_limit_cycle()"
   ]
  },
  {
   "cell_type": "code",
   "execution_count": null,
   "metadata": {},
   "outputs": [],
   "source": []
  }
 ],
 "metadata": {
  "kernelspec": {
   "display_name": "Python 3",
   "language": "python",
   "name": "python3"
  },
  "language_info": {
   "codemirror_mode": {
    "name": "ipython",
    "version": 3
   },
   "file_extension": ".py",
   "mimetype": "text/x-python",
   "name": "python",
   "nbconvert_exporter": "python",
   "pygments_lexer": "ipython3",
   "version": "3.8.10"
  }
 },
 "nbformat": 4,
 "nbformat_minor": 4
}
