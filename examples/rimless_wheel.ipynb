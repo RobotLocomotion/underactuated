{
 "cells": [
  {
   "cell_type": "markdown",
   "metadata": {},
   "source": [
    "## Notebook Setup \n",
    "The following cell will install Drake, checkout the underactuated repository, and set up the path (only if necessary).\n",
    "- On Google's Colaboratory, this **will take approximately two minutes** on the first time it runs (to provision the machine), but should only need to reinstall once every 12 hours.  Colab will ask you to \"Reset all runtimes\"; say no to save yourself the reinstall.\n",
    "- On Binder, the machines should already be provisioned by the time you can run this; it should return (almost) instantly.\n",
    "\n",
    "More details are available [here](http://underactuated.mit.edu/underactuated.html?chapter=drake)."
   ]
  },
  {
   "cell_type": "code",
   "execution_count": null,
   "metadata": {},
   "outputs": [],
   "source": [
    "try:\n",
    "  import pydrake\n",
    "  import underactuated\n",
    "except ImportError:\n",
    "  !curl -s https://raw.githubusercontent.com/RussTedrake/underactuated/master/scripts/setup/jupyter_setup.py > jupyter_setup.py\n",
    "  from jupyter_setup import setup_underactuated\n",
    "  setup_underactuated()"
   ]
  },
  {
   "cell_type": "code",
   "execution_count": null,
   "metadata": {},
   "outputs": [],
   "source": [
    "import numpy as np\n",
    "from IPython import get_ipython\n",
    "from IPython.display import HTML\n",
    "\n",
    "from underactuated.jupyter import setup_matplotlib_backend\n",
    "plt_is_interactive = setup_matplotlib_backend()\n",
    "\n",
    "from pydrake.all import (DiagramBuilder, PlanarSceneGraphVisualizer, SceneGraph,\n",
    "                         Simulator)\n",
    "from pydrake.examples.rimless_wheel import (RimlessWheel, RimlessWheelGeometry,\n",
    "                                            RimlessWheelParams)\n",
    "\n",
    "params = RimlessWheelParams()\n",
    "\n",
    "builder = DiagramBuilder()\n",
    "rimless_wheel = builder.AddSystem(RimlessWheel())\n",
    "scene_graph = builder.AddSystem(SceneGraph())\n",
    "RimlessWheelGeometry.AddToBuilder(\n",
    "    builder, rimless_wheel.get_floating_base_state_output_port(), params,\n",
    "    scene_graph)\n",
    "visualizer = builder.AddSystem(\n",
    "    PlanarSceneGraphVisualizer(scene_graph, xlim=[-8., 8.], ylim=[-2., 3.],\n",
    "                               show=plt_is_interactive))\n",
    "builder.Connect(scene_graph.get_pose_bundle_output_port(),\n",
    "                visualizer.get_input_port(0))\n",
    "\n",
    "diagram = builder.Build()\n",
    "simulator = Simulator(diagram)\n",
    "simulator.set_target_realtime_rate(1.0)\n",
    "\n",
    "context = simulator.get_mutable_context()\n",
    "\n",
    "def simulate(slope=0.08, initial_angle=0, initial_angular_velocity=5.0):\n",
    "  context = diagram.CreateDefaultContext()\n",
    "  diagram.GetMutableSubsystemContext(\n",
    "      rimless_wheel, context).get_numeric_parameter(0).set_slope(slope)\n",
    "  context.SetAccuracy(1e-4)\n",
    "  context.SetContinuousState([initial_angle, initial_angular_velocity])\n",
    "  simulator.reset_context(context)\n",
    "  simulator.Initialize()\n",
    "  \n",
    "  duration = 5.0 if get_ipython() else 0.1 # sets a shorter duration during testing\n",
    "  if not plt_is_interactive:\n",
    "      visualizer.start_recording()\n",
    "  simulator.AdvanceTo(duration)\n",
    "  if not plt_is_interactive:\n",
    "      ani = visualizer.get_recording_as_animation()\n",
    "      HTML(ani.to_jshtml())"
   ]
  },
  {
   "cell_type": "code",
   "execution_count": null,
   "metadata": {},
   "outputs": [],
   "source": [
    "simulate()"
   ]
  },
  {
   "cell_type": "code",
   "execution_count": null,
   "metadata": {},
   "outputs": [],
   "source": [
    "simulate(initial_angular_velocity=5.0)"
   ]
  },
  {
   "cell_type": "code",
   "execution_count": null,
   "metadata": {},
   "outputs": [],
   "source": [
    "simulate(initial_angular_velocity=10.0)"
   ]
  },
  {
   "cell_type": "code",
   "execution_count": null,
   "metadata": {},
   "outputs": [],
   "source": [
    "simulate(initial_angular_velocity=0.95)"
   ]
  },
  {
   "cell_type": "code",
   "execution_count": null,
   "metadata": {},
   "outputs": [],
   "source": [
    "simulate(initial_angular_velocity=-5.0)"
   ]
  },
  {
   "cell_type": "code",
   "execution_count": null,
   "metadata": {},
   "outputs": [],
   "source": [
    "simulate(initial_angular_velocity=-4.8)"
   ]
  },
  {
   "cell_type": "code",
   "execution_count": null,
   "metadata": {},
   "outputs": [],
   "source": []
  }
 ],
 "metadata": {
  "kernelspec": {
   "display_name": "Python 3",
   "language": "python",
   "name": "python3"
  },
  "language_info": {
   "codemirror_mode": {
    "name": "ipython",
    "version": 3
   },
   "file_extension": ".py",
   "mimetype": "text/x-python",
   "name": "python",
   "nbconvert_exporter": "python",
   "pygments_lexer": "ipython3",
   "version": "3.6.9"
  }
 },
 "nbformat": 4,
 "nbformat_minor": 4
}
