{
 "cells": [
  {
   "cell_type": "markdown",
   "metadata": {},
   "source": [
    "## Notebook Setup \n",
    "The following cell will install Drake, checkout the underactuated repository, and set up the path (only if necessary).\n",
    "- On Google's Colaboratory, this **will take approximately two minutes** on the first time it runs (to provision the machine), but should only need to reinstall once every 12 hours.  Colab will ask you to \"Reset all runtimes\"; say no to save yourself the reinstall.\n",
    "- On Binder, the machines should already be provisioned by the time you can run this; it should return (almost) instantly.\n",
    "\n",
    "More details are available [here](http://underactuated.mit.edu/underactuated.html?chapter=drake)."
   ]
  },
  {
   "cell_type": "code",
   "execution_count": null,
   "metadata": {},
   "outputs": [],
   "source": [
    "try:\n",
    "  import pydrake\n",
    "  import underactuated\n",
    "except ImportError:\n",
    "  !curl -s https://raw.githubusercontent.com/RussTedrake/underactuated/master/scripts/setup/jupyter_setup.py > jupyter_setup.py\n",
    "  from jupyter_setup import setup_underactuated\n",
    "  setup_underactuated()"
   ]
  },
  {
   "cell_type": "markdown",
   "metadata": {},
   "source": [
    "## Hovering using LQR\n"
   ]
  },
  {
   "cell_type": "code",
   "execution_count": null,
   "metadata": {},
   "outputs": [],
   "source": [
    "from IPython import get_ipython\n",
    "from IPython.display import display, HTML\n",
    "import matplotlib.pyplot as plt\n",
    "import numpy as np\n",
    "\n",
    "from pydrake.all import DiagramBuilder, LinearQuadraticRegulator, Simulator\n",
    "from underactuated.quadrotor2d import Quadrotor2D, Quadrotor2DVisualizer\n",
    "from underactuated.jupyter import AdvanceToAndVisualize, SetupMatplotlibBackend\n",
    "plt_is_interactive = SetupMatplotlibBackend()\n",
    "\n",
    "\n",
    "def QuadrotorLQR(plant):\n",
    "    context = plant.CreateDefaultContext()\n",
    "    context.SetContinuousState(np.zeros([6, 1]))\n",
    "    context.FixInputPort(0, plant.mass * plant.gravity / 2. * np.array([1, 1]))\n",
    "\n",
    "    Q = np.diag([10, 10, 10, 1, 1, (plant.length / 2. / np.pi)])\n",
    "    R = np.array([[0.1, 0.05], [0.05, 0.1]])\n",
    "\n",
    "    return LinearQuadraticRegulator(plant, context, Q, R)\n",
    "\n",
    "\n",
    "builder = DiagramBuilder()\n",
    "plant = builder.AddSystem(Quadrotor2D())\n",
    "\n",
    "controller = builder.AddSystem(QuadrotorLQR(plant))\n",
    "builder.Connect(controller.get_output_port(0), plant.get_input_port(0))\n",
    "builder.Connect(plant.get_output_port(0), controller.get_input_port(0))\n",
    "\n",
    "# Setup visualization\n",
    "visualizer = builder.AddSystem(Quadrotor2DVisualizer())\n",
    "builder.Connect(plant.get_output_port(0), visualizer.get_input_port(0))\n",
    "\n",
    "diagram = builder.Build()\n",
    "\n",
    "# Set up a simulator to run this diagram\n",
    "simulator = Simulator(diagram)\n",
    "context = simulator.get_mutable_context()\n"
   ]
  },
  {
   "cell_type": "code",
   "execution_count": null,
   "metadata": {},
   "outputs": [],
   "source": [
    "# Simulate\n",
    "duration = 4.0 if get_ipython() else 0.1 # sets a shorter duration during testing\n",
    "for i in range(5):\n",
    "    context.SetTime(0.)\n",
    "    context.SetContinuousState(np.random.randn(6,))\n",
    "    simulator.Initialize()\n",
    "    AdvanceToAndVisualize(simulator, visualizer, duration)"
   ]
  },
  {
   "cell_type": "code",
   "execution_count": null,
   "metadata": {},
   "outputs": [],
   "source": []
  }
 ],
 "metadata": {
  "kernelspec": {
   "display_name": "Python 3",
   "language": "python",
   "name": "python3"
  },
  "language_info": {
   "codemirror_mode": {
    "name": "ipython",
    "version": 3
   },
   "file_extension": ".py",
   "mimetype": "text/x-python",
   "name": "python",
   "nbconvert_exporter": "python",
   "pygments_lexer": "ipython3",
   "version": "3.7.7"
  }
 },
 "nbformat": 4,
 "nbformat_minor": 2
}
