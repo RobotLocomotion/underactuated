{
 "cells": [
  {
   "cell_type": "markdown",
   "metadata": {},
   "source": [
    "## Notebook Setup \n",
    "The following cell will install Drake, checkout the underactuated repository, and set up the path (only if necessary).\n",
    "- On Google's Colaboratory, this **will take approximately two minutes** on the first time it runs (to provision the machine), but should only need to reinstall once every 12 hours.  Colab will ask you to \"Reset all runtimes\"; say no to save yourself the reinstall.\n",
    "- On Binder, the machines should already be provisioned by the time you can run this; it should return (almost) instantly.\n",
    "\n",
    "More details are available [here](http://underactuated.mit.edu/underactuated.html?chapter=drake)."
   ]
  },
  {
   "cell_type": "code",
   "execution_count": null,
   "metadata": {},
   "outputs": [],
   "source": [
    "try:\n",
    "  import pydrake\n",
    "  import underactuated\n",
    "except ImportError:\n",
    "  !curl -s https://raw.githubusercontent.com/RussTedrake/underactuated/master/scripts/setup/jupyter_setup.py > jupyter_setup.py\n",
    "  from jupyter_setup import setup_underactuated\n",
    "  setup_underactuated()\n",
    "\n",
    "# Setup matplotlib backend (to notebook, if possible, or inline).  \n",
    "from underactuated.jupyter import setup_matplotlib_backend\n",
    "plt_is_interactive = setup_matplotlib_backend()"
   ]
  },
  {
   "cell_type": "markdown",
   "metadata": {},
   "source": [
    "# Trajectory optimization for the double integrator"
   ]
  },
  {
   "cell_type": "code",
   "execution_count": null,
   "metadata": {},
   "outputs": [],
   "source": [
    "import matplotlib.pyplot as plt\n",
    "import numpy as np\n",
    "from pydrake.all import eq, MathematicalProgram, Solve, Variable\n",
    "\n",
    "# Discrete-time approximation of the double integrator.\n",
    "dt = 0.01;\n",
    "A = np.eye(2) + dt*np.mat('0 1; 0 0')\n",
    "B = dt*np.mat('0; 1')\n",
    "\n",
    "Q = np.eye(2)\n",
    "R = np.eye(1)\n",
    "prog = MathematicalProgram()\n",
    "\n",
    "N = 284  # Note: I had to do a manual \"line search\" to find this.\n",
    "\n",
    "# Create decision variables\n",
    "u = np.empty((1, N-1), dtype=Variable)\n",
    "x = np.empty((2, N), dtype=Variable)\n",
    "for n in range(N-1):\n",
    "  u[:,n] = prog.NewContinuousVariables(1, 'u' + str(n))\n",
    "  x[:,n] = prog.NewContinuousVariables(2, 'x' + str(n))\n",
    "x[:,N-1] = prog.NewContinuousVariables(2, 'x' + str(N))\n",
    "\n",
    "# Add costs and constraints\n",
    "x0 = [-2, 0]\n",
    "prog.AddBoundingBoxConstraint(x0, x0, x[:,0])\n",
    "for n in range(N-1):\n",
    "  # Will eventually be prog.AddConstraint(x[:,[n+1]] == A*x[:,[n]] + B*u[:,n])\n",
    "  # See drake issues 12841 and 8315\n",
    "  dynamics_constraint = eq(x[:,[n+1]],A*x[:,[n]] + B*u[:,n])\n",
    "  prog.AddConstraint(dynamics_constraint[0, 0])\n",
    "  prog.AddConstraint(dynamics_constraint[1, 0])\n",
    "  prog.AddBoundingBoxConstraint(-1, 1, u[:,n])\n",
    "xf = [0, 0]\n",
    "prog.AddBoundingBoxConstraint(xf, xf, x[:, N-1])\n",
    "\n",
    "result = Solve(prog)\n",
    "\n",
    "x_sol = result.GetSolution(x)\n",
    "assert(result.is_success()), \"Optimization failed\"\n",
    "\n",
    "plt.figure()\n",
    "plt.plot(x_sol[0,:], x_sol[1,:])\n",
    "plt.xlabel('q')\n",
    "plt.ylabel('qdot');"
   ]
  },
  {
   "cell_type": "code",
   "execution_count": null,
   "metadata": {},
   "outputs": [],
   "source": [
    "from pydrake.all import LinearSystem, DirectTranscription\n",
    "\n",
    "C = np.eye(2)\n",
    "D = np.zeros((2,1))\n",
    "sys = LinearSystem(A, B, C, D, dt)\n",
    "\n",
    "prog = DirectTranscription(sys, sys.CreateDefaultContext(), N)\n",
    "prog.AddBoundingBoxConstraint(x0, x0, prog.initial_state())\n",
    "prog.AddBoundingBoxConstraint(xf, xf, prog.final_state())\n",
    "prog.AddConstraintToAllKnotPoints(prog.input()[0] <= 1)\n",
    "prog.AddConstraintToAllKnotPoints(prog.input()[0] >= -1)\n",
    "\n",
    "result = Solve(prog)\n",
    "x_sol = prog.ReconstructStateTrajectory(result)\n",
    "assert(result.is_success()), \"Optimization failed\"\n",
    "\n",
    "plt.figure()\n",
    "x_values = x_sol.vector_values(x_sol.get_segment_times())\n",
    "\n",
    "plt.plot(x_values[0,:], x_values[1,:])\n",
    "plt.xlabel('q')\n",
    "plt.ylabel('qdot');"
   ]
  },
  {
   "cell_type": "code",
   "execution_count": null,
   "metadata": {},
   "outputs": [],
   "source": []
  }
 ],
 "metadata": {
  "kernelspec": {
   "display_name": "Python 3",
   "language": "python",
   "name": "python3"
  },
  "language_info": {
   "codemirror_mode": {
    "name": "ipython",
    "version": 3
   },
   "file_extension": ".py",
   "mimetype": "text/x-python",
   "name": "python",
   "nbconvert_exporter": "python",
   "pygments_lexer": "ipython3",
   "version": "3.6.9"
  }
 },
 "nbformat": 4,
 "nbformat_minor": 2
}
