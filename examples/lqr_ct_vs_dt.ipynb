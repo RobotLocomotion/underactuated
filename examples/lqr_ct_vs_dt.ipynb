{
 "cells": [
  {
   "cell_type": "code",
   "execution_count": null,
   "metadata": {},
   "outputs": [],
   "source": [
    "import numpy as np\n",
    "import pydrake.all\n",
    "\n",
    "# continuous time:\n",
    "A = np.array([[0,1],[0,0]])\n",
    "B = np.array([[0],[1]])\n",
    "Q = np.identity(2)\n",
    "R = np.identity(1)\n",
    "\n",
    "K,S = pydrake.systems.controllers.LinearQuadraticRegulator(A,B,Q,R)\n",
    "print(f\"S = {S}\\n\")\n",
    "\n",
    "eigenvalues, eigenvectors = np.linalg.eig(S)\n",
    "print(f\"eig(S) = {eigenvalues}\")\n"
   ]
  },
  {
   "cell_type": "code",
   "execution_count": null,
   "metadata": {},
   "outputs": [],
   "source": [
    "# discrete time\n",
    "from IPython.display import display\n",
    "from ipywidgets import interact, Textarea\n",
    "\n",
    "Stext = Textarea(value=\"\", description=\"S: \", layout={'height':'40px'}, style={'description_width':'initial'})\n",
    "eigtext = Textarea(value=\"\", description=\"eig(S): \", layout={'height':'30px'}, style={'description_width':'initial'})\n",
    "display(Stext)\n",
    "display(eigtext)\n",
    "\n",
    "def update(h=1):\n",
    "    A = np.array([[1,h],[0,1]])\n",
    "    B = np.array([[0],[h]])\n",
    "    Q = h*np.identity(2)\n",
    "    R = h*np.identity(1)\n",
    "\n",
    "    K,S = pydrake.systems.controllers.DiscreteTimeLinearQuadraticRegulator(A,B,Q,R)\n",
    "    Stext.value = np.array2string(S, formatter={'float': lambda x: \"{:5.2f}\".format(x)})\n",
    "\n",
    "    eigenvalues, eigenvectors = np.linalg.eig(S)\n",
    "    eigtext.value = np.array2string(eigenvalues, formatter={'float': lambda x: \"{:5.2f}\".format(x)})\n",
    "\n",
    "interact(update, h=(0.01,1,.01));"
   ]
  },
  {
   "cell_type": "markdown",
   "metadata": {},
   "source": [
    "# Side note: Algebraic solution\n",
    "\n",
    "In the DP chapter, I was able to give a nice closed-form solution for the continuous-time case:$$S = \\begin{bmatrix} \\sqrt{3} & 1 \\\\ 1 & \\sqrt{3} \\end{bmatrix}.$$  The discrete-time case is not as clean.  Even when $h=1$, the discrete-time Riccati equation, using $$S = \\begin{bmatrix} a & b \\\\ b & c \\end{bmatrix},$$ results in three equations: \\begin{gather*} b^2 = 1+c \\\\ 1 + c + bc = a + ac \\\\ c^2 = 2b + a + ac. \\end{gather*}  With a little work, you can reduce this to to a quadratic equation in $b$, with a solution, $b = \\frac{1}{4}(1 + \\sqrt{21} + \\sqrt{2(3+\\sqrt{21})}).$  Not so nice! \n",
    "\n",
    "# Side note: Exact integration\n",
    "\n",
    "One can also use the exact integral of the linear system $e^Ah$ in the discretization, instead of the Euler discretization.  It doesn't change the basic observation."
   ]
  },
  {
   "cell_type": "code",
   "execution_count": null,
   "metadata": {},
   "outputs": [],
   "source": []
  }
 ],
 "metadata": {
  "kernelspec": {
   "display_name": "Python 3",
   "language": "python",
   "name": "python3"
  },
  "language_info": {
   "codemirror_mode": {
    "name": "ipython",
    "version": 3
   },
   "file_extension": ".py",
   "mimetype": "text/x-python",
   "name": "python",
   "nbconvert_exporter": "python",
   "pygments_lexer": "ipython3",
   "version": "3.9.2"
  }
 },
 "nbformat": 4,
 "nbformat_minor": 2
}