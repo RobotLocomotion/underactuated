{
 "cells": [
  {
   "cell_type": "markdown",
   "metadata": {},
   "source": [
    "# Dynamics of the Simple Pendulum\n",
    "\n",
    "I find it extremely useful to use simulation to get physical intuition about these systems.  Let's make sure we understand how the simple pendulum moves when it is exposed to a torque.\n",
    "\n",
    "For the duration of this notebook, we'll use the equations of motion $$ml^2 \\ddot\\theta + b\\dot\\theta + mgl \\sin\\theta = u,$$ where $u$ is our torque input.  "
   ]
  },
  {
   "cell_type": "markdown",
   "metadata": {},
   "source": [
    "## Notebook Setup \n",
    "The following cell will install Drake, checkout the underactuated repository, and set up the path (only if necessary).\n",
    "- On Google's Colaboratory, this **will take approximately two minutes** on the first time it runs (to provision the machine), but should only need to reinstall once every 12 hours.  Colab will ask you to \"Reset all runtimes\"; say no to save yourself the reinstall.\n",
    "- On Binder, the machines should already be provisioned by the time you can run this; it should return (almost) instantly.\n",
    "\n",
    "More details are available [here](http://underactuated.mit.edu/underactuated.html?chapter=drake)."
   ]
  },
  {
   "cell_type": "code",
   "execution_count": null,
   "metadata": {},
   "outputs": [],
   "source": [
    "try:\n",
    "  import pydrake\n",
    "  import underactuated\n",
    "except ImportError:\n",
    "  !curl -s https://raw.githubusercontent.com/RussTedrake/underactuated/master/scripts/setup/jupyter_setup.py > jupyter_setup.py\n",
    "  from jupyter_setup import setup_underactuated\n",
    "  setup_underactuated()"
   ]
  },
  {
   "cell_type": "markdown",
   "metadata": {},
   "source": [
    "## Basic simulation\n",
    "\n",
    "The pendulum is a core example in Drake.  We could certainly load it from a .urdf file, but Drake offers a Pendulum implementation that makes it convenient to manipulate the parameters (and visualize the system with different parameters)."
   ]
  },
  {
   "cell_type": "code",
   "execution_count": null,
   "metadata": {},
   "outputs": [],
   "source": [
    "from IPython import get_ipython\n",
    "import matplotlib.pyplot as plt\n",
    "\n",
    "from pydrake.all import DiagramBuilder, PlanarSceneGraphVisualizer, SceneGraph, Simulator\n",
    "from pydrake.examples.pendulum import PendulumGeometry, PendulumPlant\n",
    "from underactuated.jupyter import AdvanceToAndVisualize, SetupMatplotlibBackend, SliderSystem\n",
    "plt_is_interactive = SetupMatplotlibBackend()\n",
    "\n",
    "builder = DiagramBuilder()\n",
    "pendulum = builder.AddSystem(PendulumPlant())\n",
    "\n",
    "# Setup slider input\n",
    "torque_system = builder.AddSystem(SliderSystem(min=-5., max=5., description=\"Torque\"))\n",
    "builder.Connect(torque_system.get_output_port(0), pendulum.get_input_port(0))\n",
    "\n",
    "# Setup visualization\n",
    "scene_graph = builder.AddSystem(SceneGraph())\n",
    "PendulumGeometry.AddToBuilder(builder, pendulum.get_state_output_port(), scene_graph)\n",
    "visualizer = builder.AddSystem(\n",
    "    PlanarSceneGraphVisualizer(scene_graph, xlim=[-.7, .7], ylim=[-.7, .7], show=plt_is_interactive))\n",
    "builder.Connect(scene_graph.get_pose_bundle_output_port(),\n",
    "                visualizer.get_input_port(0))\n",
    "\n",
    "diagram = builder.Build()\n",
    "\n",
    "# Set up a simulator to run this diagram\n",
    "simulator = Simulator(diagram)\n",
    "context = simulator.get_mutable_context()\n",
    "\n",
    "# TODO(russt): Set/print the parameters.  (Need to add python bindings)\n",
    "# pendulum_context = diagram.GetMutableSubsystemContext(pendulum, context)\n",
    "# pendulum.get_mutable_parameters(pendulum_context)\n",
    "\n",
    "# Set the initial conditions\n",
    "# TODO(russt): Use pendulum.get_mutable_state(pendulum_context) \n",
    "context.SetContinuousState([0, 0]) # theta, thetadot\n"
   ]
  },
  {
   "cell_type": "markdown",
   "metadata": {},
   "source": [
    "After running the cell above, you should see an interactive slider that will control the torque.  Executing the cell below will use the value of that torque as the control input to the pendulum.  Give it a spin!\n",
    "\n",
    "*Note:* If you are running on a system that supports interactive graphics (e.g. a local machine or Binder), then you should see the simulation \"live\", and immediately see the results of changing the slider.  On Colab, however, you only get to see the results of the simulation as a movie after it's run.  It's much less interesting, I'm afraid.  [More information.](http://underactuated.mit.edu/drake.html)"
   ]
  },
  {
   "cell_type": "code",
   "execution_count": null,
   "metadata": {},
   "outputs": [],
   "source": [
    "# Simulate\n",
    "duration = 3.0 if get_ipython() else 0.1 # sets a shorter duration during testing\n",
    "context.SetTime(0.0)\n",
    "AdvanceToAndVisualize(simulator, visualizer, duration)"
   ]
  },
  {
   "cell_type": "code",
   "execution_count": null,
   "metadata": {},
   "outputs": [],
   "source": []
  }
 ],
 "metadata": {
  "kernelspec": {
   "display_name": "Python 3",
   "language": "python",
   "name": "python3"
  },
  "language_info": {
   "codemirror_mode": {
    "name": "ipython",
    "version": 3
   },
   "file_extension": ".py",
   "mimetype": "text/x-python",
   "name": "python",
   "nbconvert_exporter": "python",
   "pygments_lexer": "ipython3",
   "version": "3.7.7"
  }
 },
 "nbformat": 4,
 "nbformat_minor": 2
}