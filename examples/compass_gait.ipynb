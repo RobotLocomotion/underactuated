{
 "cells": [
  {
   "cell_type": "markdown",
   "metadata": {},
   "source": [
    "## Notebook Setup \n",
    "The following cell will install Drake, checkout the underactuated repository, and set up the path (only if necessary).\n",
    "- On Google's Colaboratory, this **will take approximately two minutes** on the first time it runs (to provision the machine), but should only need to reinstall once every 12 hours.  Colab will ask you to \"Reset all runtimes\"; say no to save yourself the reinstall.\n",
    "- On Binder, the machines should already be provisioned by the time you can run this; it should return (almost) instantly.\n",
    "\n",
    "More details are available [here](http://underactuated.mit.edu/underactuated.html?chapter=drake)."
   ]
  },
  {
   "cell_type": "code",
   "execution_count": null,
   "metadata": {},
   "outputs": [],
   "source": [
    "try:\n",
    "  import pydrake\n",
    "  import underactuated\n",
    "except ImportError:\n",
    "  !curl -s https://raw.githubusercontent.com/RussTedrake/underactuated/master/scripts/setup/jupyter_setup.py > jupyter_setup.py\n",
    "  from jupyter_setup import setup_underactuated\n",
    "  setup_underactuated()"
   ]
  },
  {
   "cell_type": "code",
   "execution_count": null,
   "metadata": {},
   "outputs": [],
   "source": [
    "import numpy as np\n",
    "import matplotlib.pyplot as plt\n",
    "from IPython import get_ipython\n",
    "\n",
    "from underactuated.jupyter import AdvanceToAndVisualize, SetupMatplotlibBackend\n",
    "plt_is_interactive = SetupMatplotlibBackend()\n",
    "\n",
    "from pydrake.all import (ConstantVectorSource, DiagramBuilder,\n",
    "                         PlanarSceneGraphVisualizer, SceneGraph, SignalLogger,\n",
    "                         Simulator)\n",
    "from pydrake.examples.compass_gait import (CompassGait, CompassGaitGeometry,\n",
    "                                           CompassGaitParams)\n",
    "\n",
    "builder = DiagramBuilder()\n",
    "compass_gait = builder.AddSystem(CompassGait())\n",
    "\n",
    "hip_torque = builder.AddSystem(ConstantVectorSource([0.0]))\n",
    "builder.Connect(hip_torque.get_output_port(0), compass_gait.get_input_port(0))\n",
    "\n",
    "scene_graph = builder.AddSystem(SceneGraph())\n",
    "CompassGaitGeometry.AddToBuilder(\n",
    "    builder, compass_gait.get_floating_base_state_output_port(), scene_graph)\n",
    "visualizer = builder.AddSystem(\n",
    "    PlanarSceneGraphVisualizer(scene_graph, xlim=[-1., 5.], ylim=[-1., 2.], \n",
    "                               show=False))\n",
    "builder.Connect(scene_graph.get_pose_bundle_output_port(),\n",
    "                visualizer.get_input_port(0))\n",
    "\n",
    "logger = builder.AddSystem(SignalLogger(14))\n",
    "builder.Connect(compass_gait.get_output_port(1), logger.get_input_port(0))\n",
    "\n",
    "diagram = builder.Build()\n",
    "simulator = Simulator(diagram)\n",
    "\n",
    "context = simulator.get_mutable_context()\n",
    "context.SetAccuracy(1e-4)\n",
    "context.SetContinuousState([0., 0., 0.4, -2.])\n",
    "\n",
    "duration = 8.0 if get_ipython() else 0.1 # sets a shorter duration during testing\n",
    "AdvanceToAndVisualize(simulator, visualizer, duration)"
   ]
  },
  {
   "cell_type": "code",
   "execution_count": null,
   "metadata": {},
   "outputs": [],
   "source": [
    "plt.figure()\n",
    "plt.plot(logger.data()[4, :], logger.data()[11, :])\n",
    "plt.xlabel(\"left leg angle\")\n",
    "plt.ylabel(\"left leg angular velocity\");"
   ]
  },
  {
   "cell_type": "code",
   "execution_count": null,
   "metadata": {},
   "outputs": [],
   "source": []
  }
 ],
 "metadata": {
  "kernelspec": {
   "display_name": "Python 3",
   "language": "python",
   "name": "python3"
  },
  "language_info": {
   "codemirror_mode": {
    "name": "ipython",
    "version": 3
   },
   "file_extension": ".py",
   "mimetype": "text/x-python",
   "name": "python",
   "nbconvert_exporter": "python",
   "pygments_lexer": "ipython3",
   "version": "3.7.7"
  }
 },
 "nbformat": 4,
 "nbformat_minor": 4
}
