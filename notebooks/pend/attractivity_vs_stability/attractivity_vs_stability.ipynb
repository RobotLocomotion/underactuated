{
 "cells": [
  {
   "cell_type": "markdown",
   "metadata": {},
   "source": [
    "# Attractivity vs Stability"
   ]
  },
  {
   "cell_type": "markdown",
   "metadata": {},
   "source": [
    "## Setup the notebook\n",
    "Running the first cell below, you will download on Google's machines all the libraries you need to run this notebook.\n",
    "The first time you run this, it should take approximately two minutes.\n",
    "But the good news is that you will have to do this only once every 12 hours!"
   ]
  },
  {
   "cell_type": "code",
   "execution_count": null,
   "metadata": {},
   "outputs": [],
   "source": [
    "# install Drake and the underactuated source repo (only if necessary) and set up the path\n",
    "# colab will ask you to \"reset all runtimes\", say no to save yourself the reinstall\n",
    "try:\n",
    "    import pydrake\n",
    "    import underactuated\n",
    "except ImportError:\n",
    "    !curl -s https://raw.githubusercontent.com/RussTedrake/underactuated/master/scripts/setup/jupyter_setup.py > jupyter_setup.py\n",
    "    from jupyter_setup import setup_underactuated\n",
    "    setup_underactuated()"
   ]
  },
  {
   "cell_type": "code",
   "execution_count": null,
   "metadata": {},
   "outputs": [],
   "source": [
    "# python libraries\n",
    "import numpy as np\n",
    "import matplotlib.pyplot as plt\n",
    "\n",
    "# pydrake imports\n",
    "from pydrake.all import DiagramBuilder, Variable, SymbolicVectorSystem, LogOutput, Simulator"
   ]
  },
  {
   "cell_type": "markdown",
   "metadata": {},
   "source": [
    "## Dynamics of the nonlinear system\n",
    "Here we create a Drake dynamical system using the class `SymbolicVectorSystem`.\n",
    "This requires the dynamics to be written in the form $\\dot{\\mathbf{x}} = f(\\mathbf{x})$, where $\\mathbf{x}$ is a vector of Drake symbolic variables.\n",
    "`SymbolicVectorSystem` is just one of the many options we have in Drake: when systems will get more complicated, writing the dynamics by hand can be rather tedious..."
   ]
  },
  {
   "cell_type": "code",
   "execution_count": null,
   "metadata": {},
   "outputs": [],
   "source": [
    "# function that given the current state returns the state time derivative\n",
    "def dynamics(x1, x2):\n",
    "    r = np.sqrt(x1**2 + x2**2)\n",
    "    return [\n",
    "        x1*(1-r) - x2*(r-x1)/(2*r),\n",
    "        x2*(1-r) + x1*(r-x1)/(2*r)\n",
    "    ]\n",
    "\n",
    "# state variables\n",
    "x1 = Variable(\"x1\")\n",
    "x2 = Variable(\"x2\")\n",
    "\n",
    "# Drake nonlinear system\n",
    "system = SymbolicVectorSystem(\n",
    "    state=[x1, x2],\n",
    "    output=[x1, x2], # all the state variables are measured\n",
    "    dynamics=dynamics(x1, x2)\n",
    ")"
   ]
  },
  {
   "cell_type": "markdown",
   "metadata": {},
   "source": [
    "## Drake diagram\n",
    "We then construct a Drake diagram.\n",
    "This is nothing more than a set of interconnected dynamical systems (similiar to the Simulink idea, if you ever used it).\n",
    "Our diagram will be very simple: we just connect our dynamical system to a logger, which will measure and store the system state during the simulation (similar to the Simulink `To Workspace` block)."
   ]
  },
  {
   "cell_type": "code",
   "execution_count": null,
   "metadata": {},
   "outputs": [],
   "source": [
    "# initialize builder of the diagram\n",
    "builder = DiagramBuilder()\n",
    "\n",
    "# add our dynamical system\n",
    "# (note: builder.AddSystem() returns a pointer to the system passed as input,\n",
    "# hence it is safe to assign the name \"system\" to its output)\n",
    "system = builder.AddSystem(system)\n",
    "\n",
    "# logger block to measure and store the state\n",
    "# connected to the (first and only) output port of the dynamical system\n",
    "logger = LogOutput(system.get_output_port(0), builder)\n",
    "\n",
    "# finalize diagram\n",
    "diagram = builder.Build()"
   ]
  },
  {
   "cell_type": "markdown",
   "metadata": {},
   "source": [
    "## Simulation\n",
    "We are ready to simulate our dynamical system.\n",
    "To this end we just feed our diagram in a the Drake `Simulator` and `AdvanceTo` the desired time."
   ]
  },
  {
   "cell_type": "code",
   "execution_count": null,
   "metadata": {},
   "outputs": [],
   "source": [
    "# function that given the initial state\n",
    "# and a simulation time returns the system trajectory\n",
    "def simulate(x1, x2, sim_time):\n",
    "    \n",
    "    # clean the logger from old trajectories\n",
    "    logger.reset()\n",
    "    \n",
    "    # set up the simulator\n",
    "    simulator = Simulator(diagram)\n",
    "    \n",
    "    # set initial conditions\n",
    "    # (for now, think of \"context\" as a synonym of state)\n",
    "    context = simulator.get_mutable_context()\n",
    "    context.SetContinuousState([x1, x2])\n",
    "    \n",
    "    # simulate from t=0 to t=sim_time\n",
    "    simulator.AdvanceTo(sim_time)\n",
    "    \n",
    "    # return the output (here = state) trajectory\n",
    "    return logger.data()"
   ]
  },
  {
   "cell_type": "markdown",
   "metadata": {},
   "source": [
    "## Plotting helpers\n",
    "Let us write a couple of functions that will make the plotting code a little cleaner.\n",
    "We have two functions here: one to plot the phase portrait in the background, another to plot the system trajectory on top."
   ]
  },
  {
   "cell_type": "code",
   "execution_count": null,
   "metadata": {},
   "outputs": [],
   "source": [
    "# function that given a function which implements xdot = f(x)\n",
    "# for a 2d system plots the phase portrait\n",
    "def plot_phase_portrait(\n",
    "    dynamics,\n",
    "    d1=2., # x1 dimension of the side of the phase portrait\n",
    "    d2=2., # x2 dimension of the side of the phase portrait\n",
    "    n=100j, # samples per side, must be a complex number (weird python indexing trick!)\n",
    "    **kwargs # other keyword arguments for the streamplot function\n",
    "):\n",
    "\n",
    "    # grid state space\n",
    "    X2, X1 = np.mgrid[-d1:d1:n, -d2:d2:n] # careful: x2 before x1!\n",
    "    \n",
    "    # evaluate the dynamics on the grid\n",
    "    X1d, X2d = dynamics(X1, X2)\n",
    "    \n",
    "    # color the streamlines according to the magnitude of xdot\n",
    "    color = np.sqrt(X1d**2 + X2d**2)\n",
    "    \n",
    "    # phase portrait\n",
    "    strm = plt.streamplot(X1, X2, X1d, X2d, color=color, **kwargs)\n",
    "    \n",
    "    # colorbar on the right that measures the magnitude of xdot\n",
    "    plt.gcf().colorbar(strm.lines, label=r'$|\\dot\\mathbf{x}|$')\n",
    "    \n",
    "    # misc plot settings\n",
    "    plt.xlabel(r'$x_1$')\n",
    "    plt.ylabel(r'$x_2$')\n",
    "    plt.xlim(-d1, d1)\n",
    "    plt.ylim(-d2, d2)\n",
    "    plt.gca().set_aspect('equal') # equal aspect ratio for x1 and x2\n",
    "    \n",
    "# function that given the initial state\n",
    "# and a simulation time plots the system trajectory\n",
    "def plot_trajectory(x1, x2, sim_time):\n",
    "    \n",
    "    # simulate the system from the given state\n",
    "    traj = simulate(x1, x2, sim_time)\n",
    "    \n",
    "    # plot a blue dot for the initial conditions\n",
    "    label = r'$\\mathbf{x}(0)=[%.2f,%.2f]^T$'%(x1,x2)\n",
    "    plt.scatter(x1, x2, s=50, c='b', zorder=3, label=label)\n",
    "    \n",
    "    # plot a red curve for the trajectory\n",
    "    label = r'$\\mathbf{x}(t)$'\n",
    "    plt.plot(traj[0,:], traj[1,:], label=label, c='r')"
   ]
  },
  {
   "cell_type": "markdown",
   "metadata": {},
   "source": [
    "## Play with the initial conditions\n",
    "Now we can finally visualize the dynamics of our system.\n",
    "To do this, in the next cell modify the two variables (currently set to arbitrary values):\n",
    "- `initial_conditions`: state of the system a time zero,\n",
    "- `sim_time`: duration of the simulation in seconds.\n",
    "\n",
    "Then, run the last cell to see the result of the simulation."
   ]
  },
  {
   "cell_type": "code",
   "execution_count": null,
   "metadata": {},
   "outputs": [],
   "source": [
    "initial_conditions = [-1, -1] # modify here\n",
    "sim_time = 1 # modify here"
   ]
  },
  {
   "cell_type": "code",
   "execution_count": null,
   "metadata": {},
   "outputs": [],
   "source": [
    "# plot and legend\n",
    "plt.figure(figsize=(10, 10))\n",
    "plot_phase_portrait(dynamics, linewidth=1, density=2)\n",
    "plot_trajectory(*initial_conditions, sim_time)\n",
    "plt.legend(loc=1)"
   ]
  }
 ],
 "metadata": {
  "kernelspec": {
   "display_name": "Python 3",
   "language": "python",
   "name": "python3"
  },
  "language_info": {
   "codemirror_mode": {
    "name": "ipython",
    "version": 3
   },
   "file_extension": ".py",
   "mimetype": "text/x-python",
   "name": "python",
   "nbconvert_exporter": "python",
   "pygments_lexer": "ipython3",
   "version": "3.7.4"
  }
 },
 "nbformat": 4,
 "nbformat_minor": 2
}