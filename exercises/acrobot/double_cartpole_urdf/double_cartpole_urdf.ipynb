{
 "cells": [
  {
   "cell_type": "code",
   "execution_count": null,
   "metadata": {
    "id": "kgxkJI975MMw"
   },
   "outputs": [],
   "source": [
    "# python libraries\n",
    "import numpy as np\n",
    "from IPython.display import HTML, display\n",
    "\n",
    "# pydrake imports\n",
    "from pydrake.all import (AddMultibodyPlantSceneGraph, DiagramBuilder,\n",
    "                         LinearQuadraticRegulator, Parser,\n",
    "                         PlanarSceneGraphVisualizer, Simulator, Linearize)"
   ]
  },
  {
   "cell_type": "markdown",
   "metadata": {
    "id": "azmhAV3cl3ke"
   },
   "source": [
    "## Problem Description\n",
    "URDF (Unified Robot Description Format) is one of the most widely used formats to describe the geometry of robots. They are represented in XML and can be stored in strings as we will do later. In this problem, we will build a double pendulum cartpole using the single pendulum cartpole described in [Section 3.2](http://underactuated.csail.mit.edu/acrobot.html#cart_pole) of the textbook as a base to understand the construction of a basic URDF then modify the system into a double pendulum cartpole. We will then wire up an LQR controller and simulate the cart-pole and perform a new series of balancing tasks."
   ]
  },
  {
   "cell_type": "markdown",
   "metadata": {
    "id": "o0iy7vgl2IxT"
   },
   "source": [
    "The simple URDFs we will be make today consist of three major components:\n",
    "1.   **Links**: inertial and visual information for each link\n",
    "2.   **Joints**: the connection between links\n",
    "3.   **Transmissions**: control inputs to joints\n",
    "\n",
    "We will go over each of these three in detail to construct the single pendulum cart-pole from the text with a slight twist.\n",
    "\n",
    "A link component here has three parts: the name (used to identify the link), the inertial (used to define the mass and  center of mass of the link), and the visual (used for displaying representative images). \n",
    "\n",
    "**Note**: For the sake of this problem, we consider x to be the horizontal direction and z to be the vertical direction. \n",
    "\n",
    "Below you will find the first link, which will represent the base cart. You can see we define it to have a mass of 1. and a COM of (0., 0., -1.). The visuals consist of a box for the body of the cart and two spheres for the wheels with their positions set relative to the link's origin.\n"
   ]
  },
  {
   "cell_type": "code",
   "execution_count": null,
   "metadata": {
    "id": "l8A8KG3k5RYQ"
   },
   "outputs": [],
   "source": [
    "# DO NOT MODIFY\n",
    "base_urdf = \"\"\"\n",
    "  <link name=\"base\">\n",
    "    <inertial>\n",
    "      <origin xyz=\"0 0 0\" />\n",
    "      <mass value=\"1\" />\n",
    "    </inertial>\n",
    "\n",
    "    <visual>\n",
    "      <origin xyz=\"0 0 0\" />\n",
    "      <geometry>\n",
    "        <box size=\".5 .2 .2\" />\n",
    "      </geometry>\n",
    "      <material>\n",
    "        <color rgba=\"0 1 0 1\" />\n",
    "      </material>\n",
    "    </visual>\n",
    "\n",
    "    <visual>\n",
    "      <origin xyz=\".15 0 -.15\" rpy=\"0 0 0\" />\n",
    "      <geometry>\n",
    "        <sphere radius=\".05\" />\n",
    "      </geometry>\n",
    "      <material>\n",
    "        <color rgba=\"0 0 0 1\" />\n",
    "      </material>\n",
    "    </visual>\n",
    "    \n",
    "    <visual>\n",
    "      <origin xyz=\"-.15 0 -.15\" rpy=\"0 0 0\" />\n",
    "      <geometry>\n",
    "        <sphere radius=\".05\" />\n",
    "      </geometry>\n",
    "      <material>\n",
    "        <color rgba=\"0 0 0 1\" />\n",
    "      </material>\n",
    "    </visual>\n",
    "  </link>\n",
    "\"\"\""
   ]
  },
  {
   "cell_type": "markdown",
   "metadata": {
    "id": "az6CtFjCJtBu"
   },
   "source": [
    "Next we have a templated pendulum link. The pendulum is defined by a ball mass and a cylinder rod where the COM is at the ball mass. We will replace the placeholder text using a helper function later to programmatically add these links. It is worth noting now that origin of a link is relative to the origin of it's parent. So for the first link, the parent origin is the center of the cart."
   ]
  },
  {
   "cell_type": "code",
   "execution_count": null,
   "metadata": {
    "id": "fzbPJjFp931k"
   },
   "outputs": [],
   "source": [
    "# DO NOT MODIFY\n",
    "pendulum_link = \"\"\" \n",
    "  <link name=\"pendulumNUMBER\">\n",
    "    <inertial>\n",
    "      <origin xyz=\"0 0 REPLACE\" />\n",
    "      <mass value=\"1\" />\n",
    "    </inertial>\n",
    "\n",
    "    <visual>\n",
    "      <origin xyz=\"0 0 REPLACE\" />\n",
    "      <geometry>\n",
    "         <sphere radius=\".05\" />\n",
    "      </geometry>\n",
    "      <material>\n",
    "        <color rgba=\"0 0 1 1\" />\n",
    "      </material>\n",
    "    </visual>\n",
    "\n",
    "    <visual>\n",
    "      <origin xyz=\"0 0 REPLACE\" />\n",
    "      <geometry>\n",
    "         <cylinder length=\"1\" radius=\".01\" />\n",
    "      </geometry>\n",
    "      <material>\n",
    "        <color rgba=\"1 0 0 1\" />\n",
    "      </material>\n",
    "    </visual>\n",
    "  </link>\n",
    "\"\"\""
   ]
  },
  {
   "cell_type": "markdown",
   "metadata": {
    "id": "vDRZe8EoKi1i"
   },
   "source": [
    "Now we move onto joints, which are used to connect links and define their behavior. The first joint we must consider is how the cart fits into the world, which is the root parent of our cart-pole system. Here we treat this as a sliding or prismatic joint as if the cart is moving on a fixed track in the x direction. "
   ]
  },
  {
   "cell_type": "code",
   "execution_count": null,
   "metadata": {
    "id": "AC03ewtVC-XP"
   },
   "outputs": [],
   "source": [
    "# DO NOT MODIFY\n",
    "base_joint = \"\"\"\n",
    "  <joint name=\"x\" type=\"prismatic\">\n",
    "    <parent link=\"world\" />\n",
    "    <child link=\"base\" />\n",
    "    <axis xyz=\"1 0 0\" />\n",
    "  </joint>\n",
    "\"\"\""
   ]
  },
  {
   "cell_type": "markdown",
   "metadata": {
    "id": "8Uy06lbKK84b"
   },
   "source": [
    "The second joint to consider is for pendulum links connected to the cart base as well as other pendula. We will treat these as continuous joints allowing them to revolve around their parent origin. We will again programmatically replace the placeholder text later when we build the full URDF string."
   ]
  },
  {
   "cell_type": "code",
   "execution_count": null,
   "metadata": {
    "id": "GeMHp1IVDCTn"
   },
   "outputs": [],
   "source": [
    "# DO NOT MODIFY\n",
    "pendulum_joint = \"\"\"\n",
    "  <joint name=\"thetaNUMBER\" type=\"continuous\">\n",
    "    <parent link=\"PARENT\" />\n",
    "    <child link=\"CHILD\" />\n",
    "    <axis xyz=\"0 -1 0\" />\n",
    "    <origin xyz=\"0 0 REPLACE\"/>\n",
    "  </joint>\n",
    "\"\"\""
   ]
  },
  {
   "cell_type": "markdown",
   "metadata": {
    "id": "FJvJ0zDDLj1k"
   },
   "source": [
    "Lastly, we come to the transmission component. Here the only controlled input is a force applied in the x direction on the cart base. "
   ]
  },
  {
   "cell_type": "code",
   "execution_count": null,
   "metadata": {
    "id": "JupsWEUeDKG8"
   },
   "outputs": [],
   "source": [
    "# DO NOT MODIFY\n",
    "transmission = \"\"\"\n",
    "  <transmission type=\"SimpleTransmission\" name=\"base_force\">\n",
    "    <actuator name=\"force\" />\n",
    "    <joint name=\"x\" />\n",
    "  </transmission>\n",
    "\"\"\""
   ]
  },
  {
   "cell_type": "markdown",
   "metadata": {
    "id": "5YcidMt3L6C9"
   },
   "source": [
    "Now we have all the components necessary to construct a URDF for the cart-pole. Below you will find a helper function we will use to do so programmatically. The function takes as input a list of parameters for each pendulum link. For our first test, we will only pass a single list to construct a single pendulum.\n",
    "\n",
    "Each list contains two paramters: the first is the vertical location of the COM of the ball mass of the pendulum (positive or negative) and the second is origin point for the joint connecting the pendulum to its parent link. \n",
    "\n",
    "For example we will construct and run LQR on the cart-pole as defined in the text, where the ball mass is located -1. below the cart (so that $\\theta = 0 $ is the stable equilibrium below the cart $\\theta = \\pi$ is the unstable equilibrium above. The joint origin is thus 0 as the base of the pendula is at the center of the cart."
   ]
  },
  {
   "cell_type": "code",
   "execution_count": null,
   "metadata": {
    "id": "9ZNhVKax4AiH"
   },
   "outputs": [],
   "source": [
    "# function that builds a urdf string with the variable number of pendula\n",
    "# input is a list for the number of pendula consisting each of a list\n",
    "# of parameters for the vertical distance from the parent origin\n",
    "# and the joint origin to the parent\n",
    "def create_cartpole_urdf(parameters):\n",
    "  \n",
    "  # urdf header and ender\n",
    "  urdf = \"\"\"<?xml version=\"1.0\"?>\\n<robot name=\"DoubleCartPole\">BASE</robot>\"\"\"\n",
    "  # cart base of the robot\n",
    "  urdf = urdf.replace(\"BASE\", base_urdf + \"LINK\")\n",
    "  \n",
    "  # add pendula links\n",
    "  for number in range(0,len(parameters)):\n",
    "    urdf = urdf.replace(\"LINK\", pendulum_link.replace(\"NUMBER\", str(number)).replace(\"REPLACE\", str(parameters[number][0]), 2).replace(\"REPLACE\", str(parameters[number][0]*.5)) + \"LINK\")\n",
    "  urdf = urdf.replace(\"LINK\", base_joint + \"JOINT\")\n",
    "\n",
    "  # add the joints starting with base\n",
    "  parent = \"base\"\n",
    "  for number in range(0,len(parameters)):\n",
    "    urdf = urdf.replace(\"JOINT\", pendulum_joint.replace(\"NUMBER\", str(number)).replace(\"PARENT\", parent).replace(\"CHILD\", \"pendulum\"+str(number)).replace(\"REPLACE\", str(parameters[number][1])) + \"JOINT\")\n",
    "    parent = \"pendulum\" + str(number)\n",
    "\n",
    "  # add the transmission for the cart base\n",
    "  urdf = urdf.replace(\"JOINT\", transmission)\n",
    "\n",
    "  return urdf"
   ]
  },
  {
   "cell_type": "markdown",
   "metadata": {
    "id": "Eg-oa4-PO0F5"
   },
   "source": [
    "For the single pendulum cart-pole we define the unstable equilibrium to be $\\theta = \\pi$ and $Q$ and $R$ to be identity matrices. We also define the URDF parameters to be **[link_COM_height, joint_origin_height]** which for the single pendulum will be **-1.** and **0.** respectively."
   ]
  },
  {
   "cell_type": "code",
   "execution_count": null,
   "metadata": {
    "id": "TNSMRznm5r4a"
   },
   "outputs": [],
   "source": [
    "# unstable equilibrium point\n",
    "x_star = [0, np.pi, 0, 0]\n",
    "\n",
    "# weight matrices for the lqr controller*\n",
    "Q = np.diag((10., 10., 1., 1.))\n",
    "R = np.eye(1)\n",
    "\n",
    "# construct the parameters for a URDF of single pendulum cart-pole\n",
    "def get_single_pendulum_urdf_parameters():\n",
    "  return [[.1, .1]] # modify here\n",
    "\n",
    "single_pendulum_cartpole_urdf = create_cartpole_urdf(get_single_pendulum_urdf_parameters())\n",
    "\n",
    "# verify the urdf file output\n",
    "print(single_pendulum_cartpole_urdf)"
   ]
  },
  {
   "cell_type": "markdown",
   "metadata": {
    "id": "5aM9fqmXQ1ZE"
   },
   "source": [
    "Now that we've successfully constructed a URDF file, we can add it to LQR and run our robot!"
   ]
  },
  {
   "cell_type": "code",
   "execution_count": null,
   "metadata": {
    "id": "sQjc9vRI5tzg"
   },
   "outputs": [],
   "source": [
    "# start construction site of our block diagram\n",
    "builder = DiagramBuilder()\n",
    "\n",
    "# instantiate the cart-pole and the scene graph\n",
    "cartpole, scene_graph = AddMultibodyPlantSceneGraph(builder, time_step=0.0)\n",
    "Parser(cartpole).AddModelFromString(single_pendulum_cartpole_urdf, \"urdf\")\n",
    "cartpole.Finalize()\n",
    "\n",
    "# set the operating point (vertical unstable equilibrium)\n",
    "context = cartpole.CreateDefaultContext()\n",
    "context.get_mutable_continuous_state_vector().SetFromVector(x_star)\n",
    "\n",
    "# fix the input port to zero and get its index for the lqr function\n",
    "cartpole.get_actuation_input_port().FixValue(context, [0])\n",
    "input_i = cartpole.get_actuation_input_port().get_index()\n",
    "\n",
    "# synthesize lqr controller directly from\n",
    "# the nonlinear system and the operating point\n",
    "lqr = LinearQuadraticRegulator(cartpole,\n",
    "                               context,\n",
    "                               Q,\n",
    "                               R,\n",
    "                               input_port_index=int(input_i))\n",
    "lqr = builder.AddSystem(lqr)\n",
    "\n",
    "# the following two lines are not needed here...\n",
    "output_i = cartpole.get_state_output_port().get_index()\n",
    "cartpole_lin = Linearize(cartpole,\n",
    "                         context,\n",
    "                         input_port_index=input_i,\n",
    "                         output_port_index=output_i)\n",
    "\n",
    "# wire cart-pole and lqr\n",
    "builder.Connect(cartpole.get_state_output_port(), lqr.get_input_port(0))\n",
    "builder.Connect(lqr.get_output_port(0), cartpole.get_actuation_input_port())\n",
    "\n",
    "# add a visualizer and wire it\n",
    "visualizer = builder.AddSystem(\n",
    "    PlanarSceneGraphVisualizer(scene_graph, xlim=[-3., 3.], ylim=[-.4, 3.], show=False)\n",
    ")\n",
    "builder.Connect(scene_graph.get_query_output_port(), visualizer.get_input_port(0))\n",
    "\n",
    "# finish building the block diagram\n",
    "diagram = builder.Build()\n",
    "\n",
    "# instantiate a simulator\n",
    "simulator = Simulator(diagram)\n",
    "simulator.set_publish_every_time_step(False) # makes sim faster"
   ]
  },
  {
   "cell_type": "code",
   "execution_count": null,
   "metadata": {
    "id": "qdxALK-k8e9S"
   },
   "outputs": [],
   "source": [
    "# function that given the cart-pole initial state\n",
    "# and the simulation time, simulates the system\n",
    "# and produces a video\n",
    "def simulate_and_animate(x0, sim_time=5):\n",
    "    \n",
    "    # start recording the video for the animation of the simulation\n",
    "    visualizer.start_recording()\n",
    "    \n",
    "    # reset initial time and state\n",
    "    context = simulator.get_mutable_context()\n",
    "    context.SetTime(0.)\n",
    "    context.SetContinuousState(x0)\n",
    "    \n",
    "    # run sim\n",
    "    simulator.Initialize()\n",
    "    simulator.AdvanceTo(sim_time)\n",
    "    \n",
    "    # stop video\n",
    "    visualizer.stop_recording()\n",
    "    \n",
    "    # construct animation\n",
    "    ani = visualizer.get_recording_as_animation()\n",
    "    \n",
    "    # display animation below the cell\n",
    "    display(HTML(ani.to_jshtml()))\n",
    "    \n",
    "    # reset to empty video\n",
    "    visualizer.reset_recording()"
   ]
  },
  {
   "cell_type": "code",
   "execution_count": null,
   "metadata": {
    "id": "UiQmTjhI8j3S"
   },
   "outputs": [],
   "source": [
    "# simulate and animate the cart\n",
    "simulate_and_animate(np.array([0, 0.9*np.pi, 0, 0]))"
   ]
  },
  {
   "cell_type": "markdown",
   "metadata": {
    "id": "PpX0_1P3TF2K"
   },
   "source": [
    "Now that we've managed to create the URDF for the single pendulum cart-pole, we have all the tools to make a multi-pendulum cart-pole. For this problem, we will construct a double pendulum cart-pole.\n",
    "\n",
    "Using the same helper function we can create a list of parameter lists for as many pendula as we would like to add. Consider now where the second pendulum will be situated relative to its parent the first pendulum and how its joint will be positioned. Drawing a sketch is a helpful strategy for working your head around how the links and joints will situate with each other.\n",
    "\n",
    "**Note:** For the first pendulum, $\\theta = 0$ is considered to be the stable downward equilibrium because it is defined in the **-z** direction relative to the base cart's origin. For the second pendulum, we will be relative to the first pendulum's reference direction, which \n",
    "\n",
    "However, we will make one crucial change to the single-pendulum cart-pole. Previously we considered $\\theta = 0$ to be the downward stable equilibrium, now however we will switch $\\theta = 0$ to be the unstable equilibrium so that all pendulum consider that direction to be the same $\\theta$. This is because the position of the links are relative to each other, so any successive pendula past the first will have its $\\theta = 0$ set to be colinear to the first pendulum. This will nicely clean up our system and challenge you to think about how to change the URDF parameters to make this change. \n",
    "\n",
    "All values for both pendula should be {-1., 0., 1.} inclusive."
   ]
  },
  {
   "cell_type": "code",
   "execution_count": null,
   "metadata": {
    "id": "GF4vWOeHVQty"
   },
   "outputs": [],
   "source": [
    "# unstable equilibrium point\n",
    "x_star = [0, np.pi, np.pi, 0, 0, 0]\n",
    "\n",
    "# weight matrices for the lqr controller\n",
    "Q = np.diag((10., 10., 10., 1., 1., 1.))\n",
    "R = np.eye(1)\n",
    "\n",
    "# construct the parameters for a URDF of double pendulum cart-pole\n",
    "def get_double_pendulum_urdf_parameters():\n",
    "  return [[.1, .1], [.1 ,.1]] # modify here\n",
    "\n",
    "double_pendulum_cartpole_urdf = create_cartpole_urdf(get_double_pendulum_urdf_parameters())\n",
    "\n",
    "# verify the urdf file output\n",
    "print(double_pendulum_cartpole_urdf)"
   ]
  },
  {
   "cell_type": "code",
   "execution_count": null,
   "metadata": {
    "id": "I_Ac4dgBVgS6"
   },
   "outputs": [],
   "source": [
    "builder = DiagramBuilder()\n",
    "\n",
    "cartpole, scene_graph = AddMultibodyPlantSceneGraph(builder, time_step=0.0)\n",
    "Parser(cartpole).AddModelFromString(double_pendulum_cartpole_urdf, \"urdf\")\n",
    "cartpole.Finalize()\n",
    "\n",
    "context = cartpole.CreateDefaultContext()\n",
    "context.get_mutable_continuous_state_vector().SetFromVector(x_star)\n",
    "cartpole.get_actuation_input_port().FixValue(context, [0])\n",
    "input_i = cartpole.get_actuation_input_port().get_index()\n",
    "lqr = LinearQuadraticRegulator(cartpole,\n",
    "                               context,\n",
    "                               Q,\n",
    "                               R,\n",
    "                               input_port_index=int(input_i))\n",
    "lqr = builder.AddSystem(lqr)\n",
    "output_i = cartpole.get_state_output_port().get_index()\n",
    "cartpole_lin = Linearize(cartpole,\n",
    "                         context,\n",
    "                         input_port_index=input_i,\n",
    "                         output_port_index=output_i)\n",
    "builder.Connect(cartpole.get_state_output_port(), lqr.get_input_port(0))\n",
    "builder.Connect(lqr.get_output_port(0), cartpole.get_actuation_input_port())\n",
    "\n",
    "visualizer = builder.AddSystem(\n",
    "    PlanarSceneGraphVisualizer(scene_graph, xlim=[-3., 3.], ylim=[-.4, 3], show=False)\n",
    ")\n",
    "builder.Connect(scene_graph.get_query_output_port(), visualizer.get_input_port(0))\n",
    "diagram = builder.Build()\n",
    "\n",
    "simulator = Simulator(diagram)\n",
    "simulator.set_publish_every_time_step(False)\n",
    "\n",
    "def simulate_and_animate(x0, sim_time=5):\n",
    "\n",
    "    # start recording the video for the animation of the simulation\n",
    "    visualizer.start_recording()\n",
    "\n",
    "    # reset initial time and state\n",
    "    context = simulator.get_mutable_context()\n",
    "    context.SetTime(0.)\n",
    "    context.SetContinuousState(x0)\n",
    "\n",
    "    # run sim\n",
    "    simulator.Initialize()\n",
    "    simulator.AdvanceTo(sim_time)\n",
    "\n",
    "    # stop video\n",
    "    visualizer.stop_recording()\n",
    "\n",
    "    # construct animation\n",
    "    ani = visualizer.get_recording_as_animation()\n",
    "\n",
    "    # display animation below the cell\n",
    "    display(HTML(ani.to_jshtml()))\n",
    "\n",
    "    # reset to empty video\n",
    "    visualizer.reset_recording()"
   ]
  },
  {
   "cell_type": "code",
   "execution_count": null,
   "metadata": {
    "id": "DYGPECGYVzwU"
   },
   "outputs": [],
   "source": [
    "# simulate and animate the cart\n",
    "simulate_and_animate(np.array([-2, 0.96*np.pi, 0.93*np.pi, 0, 0, 0]))"
   ]
  },
  {
   "cell_type": "code",
   "execution_count": null,
   "metadata": {
    "id": "Kme4VJP2Y225"
   },
   "outputs": [],
   "source": [
    "from underactuated.exercises.acrobot.double_cartpole_urdf.test_double_cartpole_urdf import TestDoubleCartPoleURDF\n",
    "from underactuated.exercises.grader import Grader\n",
    "Grader.grade_output([TestDoubleCartPoleURDF], [locals()], 'results.json')\n",
    "Grader.print_test_results('results.json')"
   ]
  }
 ],
 "metadata": {
  "colab": {
   "name": "double_cartpole_urdf.ipynb",
   "provenance": []
  },
  "kernelspec": {
   "display_name": "Python 3",
   "name": "python3"
  },
  "language_info": {
   "codemirror_mode": {
    "name": "ipython",
    "version": 3
   },
   "file_extension": ".py",
   "mimetype": "text/x-python",
   "name": "python",
   "nbconvert_exporter": "python",
   "pygments_lexer": "ipython3",
   "version": "3.8.10"
  }
 },
 "nbformat": 4,
 "nbformat_minor": 0
}