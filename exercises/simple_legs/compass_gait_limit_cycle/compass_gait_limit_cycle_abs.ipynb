{
 "cells": [
  {
   "cell_type": "markdown",
   "metadata": {},
   "source": [
    "# Limit-Cycle Detection via Trajectory Optimization"
   ]
  },
  {
   "cell_type": "markdown",
   "metadata": {},
   "source": [
    "## Notebook Setup \n",
    "The following cell will install Drake, checkout the underactuated repository, and set up the path (only if necessary).\n",
    "- On Google's Colaboratory, this **will take approximately two minutes** on the first time it runs (to provision the machine), but should only need to reinstall once every 12 hours.  Colab will ask you to \"Reset all runtimes\"; say no to save yourself the reinstall.\n",
    "- On Binder, the machines should already be provisioned by the time you can run this; it should return (almost) instantly.\n",
    "\n",
    "More details are available [here](http://underactuated.mit.edu/underactuated.html?chapter=drake)."
   ]
  },
  {
   "cell_type": "code",
   "execution_count": null,
   "metadata": {},
   "outputs": [],
   "source": [
    "try:\n",
    "    import pydrake\n",
    "    import underactuated\n",
    "except ImportError:\n",
    "    !curl -s https://raw.githubusercontent.com/RussTedrake/underactuated/master/scripts/setup/jupyter_setup.py > jupyter_setup.py\n",
    "    from jupyter_setup import setup_underactuated\n",
    "    setup_underactuated()"
   ]
  },
  {
   "cell_type": "code",
   "execution_count": null,
   "metadata": {},
   "outputs": [],
   "source": [
    "# others\n",
    "import numpy as np\n",
    "import matplotlib.pyplot as plt\n",
    "from IPython.display import HTML\n",
    "\n",
    "# drake\n",
    "from pydrake.all import (MultibodyPlant, Parser, DiagramBuilder, Simulator,\n",
    "                         PlanarSceneGraphVisualizer, SceneGraph, TrajectorySource,\n",
    "                         SnoptSolver, MultibodyPositionToGeometryPose, PiecewisePolynomial,\n",
    "                         MathematicalProgram, JacobianWrtVariable, eq)\n",
    "\n",
    "from underactuated import FindResource"
   ]
  },
  {
   "cell_type": "markdown",
   "metadata": {},
   "source": [
    "## Problem Description\n",
    "\n",
    "In this exercise we will write a nonlinear optimization to find the limit cycle of the passive compass gait.\n",
    "We have already discussed this problem in the [lecture notes](http://underactuated.mit.edu/simple_legs.html#compass_gait) under some simplifying assumptions (the stance foot acts as a pin joint does not slip, we disregarded firction limits in the heel strike).\n",
    "In the case of the rimless wheel, we have also seen how to use `DirectCollocation` to [detect the limit cycle under these simplifying assumptions](https://github.com/RussTedrake/underactuated/blob/master/underactuated/rimless_wheel/dircol_limitcycle.py).\n",
    "In this notebook we take a more general approach, that can be used as a starting point to derive limit cycles for more complex robots, like the [kneed walker](http://underactuated.mit.edu/simple_legs.html#kneed_walker) or even 3D robots.\n",
    "\n",
    "We start from the `urdf` description of the compass gait: no derivation of the equations of motion by hand here.\n",
    "We describe the system in floting-base coordinates, meaning that the position of the stance foot is not fixed and is included in the configuration vector $\\mathbf{q}$.\n",
    "We then parse the `urdf` to obtain the manipulator equations for the compass gait, together with the Jacobian matrices needed to take care of contacts and no-penetration constraints.\n",
    "Finally, we write a `MathematicalProgram` to identify the limit cycle.\n",
    "This is a different kind of trajectory optimization from the ones you have been seen before: there is no control action to optimize this time, the only knob we have is the initial state of the compass gait.\n",
    "We do not even have a cost function to minimize.\n",
    "But, as you will see, this problem is harder than it seems!\n",
    "\n",
    "Your goal is to complete the mathematical program we partially wrote below."
   ]
  },
  {
   "cell_type": "markdown",
   "metadata": {},
   "source": [
    "# The Model\n",
    "\n",
    "In the figure below we depicted the compass gait with the system of coordinates we will use in this exercise.\n",
    "The position of the stance foot, with respect to a frame aligned with the ground, has coordinates $x, y$.\n",
    "The absolute angle of the stance leg is $\\theta_1$, and the angle of the swing leg relative to the stance leg is $\\theta_2$.\n",
    "THe configuration vector is $\\mathbf{q} = [x, y, \\theta_1, \\theta_2]^T$.\n",
    "The system state is $\\mathbf{x} = [\\mathbf{q}^T, \\dot{\\mathbf{q}}^T]^T$.\n",
    "The bodies with mass are the two legs, and the body (white circle).\n",
    "You youa are curious to know the numeric parameters of this system, have a look at its [urdf file](https://github.com/RussTedrake/underactuated/blob/master/underactuated/models/compass_gait.urdf).\n",
    "\n",
    "FIGURE HERE\n",
    "\n",
    "The idea is simple: we need to find an initial state so that, after a walking cycle, the robot comes back exactly to the same state.\n",
    "Since the robot is completely symmetric (the legs have the same length and mass distribution), there is no need to optimize for the whole walking cycle (two steps).\n",
    "We just optimize a single step, then we \"mirror\" the result to obtain the second step and complete the walking cycle (see the figure below).\n",
    "\n",
    "FIGURE HERE\n",
    "\n",
    "\n",
    "**MultibodyPlant scuffing**"
   ]
  },
  {
   "cell_type": "markdown",
   "metadata": {},
   "source": [
    "## The Walking Cycle\n",
    "\n",
    "We require the robot to start its motion with both the feet on the ground (figure on the left).\n",
    "This is the only constraint we impose to the initial state $\\mathbf{x}(0)$.\n",
    "\n",
    "The stance foot must be in contact with the ground for all times ($y(t)=0$), while the swing foot is allowed to leave the ground but, of course, not to penetrate it.\n",
    "The contact force at the stance foot must always lie in the friction cone.\n",
    "\n",
    "At the end of the step, the swing foot must collide (i.e. be in contact) with the ground: this moment is called the \"heel strike\" and denoted as $t_c$.\n",
    "At the heel strike we have an implusive force on the swing foot which must also lie in the friction cone ($\\int_{t_c^-}^{t_c^+} \\lambda dt$ [in the lecture notes](http://underactuated.csail.mit.edu/multibody.html#impulsive_collision).).\n",
    "This impulse leads to a jump in the system state as described [also here](http://underactuated.mit.edu/simple_legs.html#compass_gait).\n",
    "\n",
    "To ensure the periodicity of the motion we can proceed as follows.\n",
    "The velocity $\\dot{\\mathbf{q}}(t)$ evolves contiously up to the heel strike, then, as said, it has a jump.\n",
    "Consider the system state $\\mathbf{x}(t_c^+) = [\\mathbf{q}^T(t_c), \\dot{\\mathbf{q}}^T(t_c^+)]^T$ immediately after this velocity jump.\n",
    "We want to change coordintes instantaneously, and interchange the stance and the swing leg.\n",
    "\n",
    "\n",
    ", with the swing foot being the new floating base.\n",
    "\n",
    "\n",
    "\n",
    "We want the swing foot to be\n",
    "\n",
    "\n",
    "If we were to change system of coordinates instantaneuosly, and move the floating base to the swing foot\n",
    "\n",
    "the final configuration $\\mathbf{q}$ must mirror  the initial one exactly (as in the figure above).\n",
    "The velocity contraints require some more careful thinking.\n",
    "The velocity $\\dot{\\mathbf{q}}$ evolves contiously up to the \n",
    "\n",
    "At the end of the step, the swing foot must be again on the ground, and the final configuration of the robot must mirror perfectly the initial one.\n",
    "\n",
    "\n",
    "but we do not constrain the initial values of the angles $\\theta_1$, $\\theta_2$"
   ]
  },
  {
   "cell_type": "markdown",
   "metadata": {},
   "source": [
    "## Parse the `urdf` and Get the `MultibodyPlant`\n",
    "\n",
    "Here are a couple of physical parameters we will need below."
   ]
  },
  {
   "cell_type": "code",
   "execution_count": null,
   "metadata": {},
   "outputs": [],
   "source": [
    "# friction coefficient between feet and ground\n",
    "friction = 1.\n",
    "\n",
    "# position of the feet in the respective leg frame\n",
    "# (has to match the urdf)\n",
    "foot_in_leg = np.array([0, 0, -1])"
   ]
  },
  {
   "cell_type": "markdown",
   "metadata": {},
   "source": [
    "Here we parse the `urdf` file.\n",
    "\n",
    "**An important implementation detail.**\n",
    "Behind the scenes, the solvers we use for trajectory optimization evaluate at each iteration the constraints and the cost function.\n",
    "Additionally, they also need to compute the derivaties of these vaues with respect to the optimization variables.\n",
    "This is needed to understand in which direction the current solution should be perturbed to find a feasible point or reduce the cost.\n",
    "This process used to be vey tedious some years ago: these solvers required you to write down the deivatives of the cost and the constraints \"by hand\".\n",
    "Nowadays, we use [automatic differentiation](https://en.wikipedia.org/wiki/Automatic_differentiation), which through the construction of a computational graph is able to evaluate a functions and its derivatives exactly, very quickly.\n",
    "To allow the evaluation of the `MultibodyPlant` functions (e.g. the computation of the mass matrix) with `AutoDiffXd` variables, we need to call the `MultibodyPlant.ToAutoDiffXd()` function which returns a copy of the `MultibodyPlant` that can work with autodiff variables."
   ]
  },
  {
   "cell_type": "code",
   "execution_count": null,
   "metadata": {},
   "outputs": [],
   "source": [
    "# parse urdf and create multibody plant\n",
    "plant = MultibodyPlant(time_step=0)\n",
    "file_name = FindResource('models/compass_gait_abs.urdf')\n",
    "Parser(plant).AddModelFromFile(file_name)\n",
    "plant.Finalize()\n",
    "\n",
    "# overwrite plant with its autodiff copy\n",
    "plant = plant.ToAutoDiffXd()\n",
    "\n",
    "# number of configuration variables\n",
    "nq = plant.num_positions()\n",
    "\n",
    "# number of components of the contact forces\n",
    "nf = 2"
   ]
  },
  {
   "cell_type": "markdown",
   "metadata": {},
   "source": [
    "## Helper Functions for the `MathematicalProgram`\n",
    "\n",
    "When writing a `MathematicalProgram` in Drake, optimization variables are `symbolic.Variable` objects.\n",
    "These cannot be passed directly to the `MultibodyPlant` functions (such as `CalcMassMatrix`), which only accepts floats or `AutoDiffXd` types.\n",
    "Hence, if you need to add a constraint which involves the evaluation of a `MultibodyPlant` function, you need to proceed as follows.\n",
    "\n",
    "Write a python function (`my_fun`) which takes some optimization variables (`vars`) as inputs, and returns the quantity (`value`) that you want to constrain.\n",
    "Then using the method `AddConstraint` from `MathematicalProgram` you can write    `prog.AddConstraint(my_fun, lb=value_lb, ub=value_ub, vars=vars)` to enforce the constraints `value_lb <= value <= value_ub`, where `value_lb` and `value_ub` are vectors of floats of appropriate dimensions.\n",
    "\n",
    "In the following cell we wrote the functions that we will need to enforce the necessary constraints in the trajectory optimization problem."
   ]
  },
  {
   "cell_type": "code",
   "execution_count": null,
   "metadata": {},
   "outputs": [],
   "source": [
    "# Function that given the current configuration, velocity,\n",
    "# acceleration, and contact force at the stance foot, evaluates\n",
    "# the manipulator equations. The output of this function is a\n",
    "# vector with dimensions equal to the number of configuration\n",
    "# variables. If the output of this function is equal to zero\n",
    "# then the given inputs verify the manipulator equations.\n",
    "def manipulator_equations(vars):\n",
    "    \n",
    "    # split input vector in subvariables\n",
    "    # configuration, velocity, acceleration, stance-foot force\n",
    "    assert vars.size == 3 * nq + nf\n",
    "    split_at = [nq, 2 * nq, 3 * nq]\n",
    "    q, qd, qdd, f = np.split(vars, split_at)\n",
    "    \n",
    "    # set plant state\n",
    "    context = plant.CreateDefaultContext()\n",
    "    plant.SetPositions(context, q)\n",
    "    plant.SetVelocities(context, qd)\n",
    "    \n",
    "    # matrices for the manipulator equations\n",
    "    M = plant.CalcMassMatrixViaInverseDynamics(context)\n",
    "    Cv = plant.CalcBiasTerm(context)\n",
    "    tauG = plant.CalcGravityGeneralizedForces(context)\n",
    "    \n",
    "    # Jacobian of the stance foot\n",
    "    J = get_foot_jacobian(plant, context, 'stance_leg')\n",
    "    \n",
    "    # return manipulator equations violation\n",
    "    return M.dot(qdd) + Cv - tauG - J.T.dot(f)\n",
    "\n",
    "# This function implements the implusive collision derived in\n",
    "# the appendix of the book. It take as inputs the compass gait\n",
    "# configuration, velocity before and after the impact, and the\n",
    "# time integral of the impulse (in latex: $\\int_{t_c^-}^{t_c^+} \\lambda dt$).\n",
    "# It returns a vector of quantities that must vanish in order\n",
    "# for the impusive dynamics to be verified. More specifically,\n",
    "# it enforces the velocity jump due to the impulse, and the\n",
    "# inelastic behavior of the contact (the coefficient of\n",
    "# restitution $e$ is zero).\n",
    "# See http://underactuated.mit.edu/multibody.html#impulsive_collision\n",
    "def reset_velocity_heelstrike(vars):\n",
    "    \n",
    "    # split input vector in subvariables\n",
    "    # qd_pre: generalized velocity before the impact\n",
    "    # qd_post: generalized velocity after the impact\n",
    "    # lam_int: time integral of the collision impulse (2d vector)\n",
    "    assert vars.size == 3 * nq + nf\n",
    "    split_at = [nq, 2 * nq, 3 * nq]\n",
    "    q, qd_pre, qd_post, lam_int = np.split(vars, split_at)\n",
    "\n",
    "    # set plant configuration\n",
    "    context = plant.CreateDefaultContext()\n",
    "    plant.SetPositions(context, q)\n",
    "    \n",
    "    # get necessary matrices\n",
    "    M = plant.CalcMassMatrixViaInverseDynamics(context)\n",
    "    J = get_foot_jacobian(plant, context, 'swing_leg')\n",
    "    \n",
    "    # return a vector of quantities that must vanish for the\n",
    "    # impulsive dynamics to hold\n",
    "    return np.concatenate((\n",
    "        M.dot(qd_post - qd_pre) - J.T.dot(lam_int), # velocity jump due to the impulse\n",
    "        J.dot(qd_post) # inelastic contact, zero velocity restitution\n",
    "    ))\n",
    "\n",
    "def foot_position(leg, q):\n",
    "    \n",
    "    # get reference frames for the leg and the ground\n",
    "    leg_frame = plant.GetBodyByName(leg).body_frame()\n",
    "    ground_frame = plant.GetBodyByName('ground').body_frame()\n",
    "    \n",
    "    # position of the foot in ground coordinates\n",
    "    context = plant.CreateDefaultContext()\n",
    "    plant.SetPositions(context, q)\n",
    "    foot_position = plant.CalcPointsPositions(\n",
    "        context,\n",
    "        leg_frame,\n",
    "        foot_in_leg,\n",
    "        ground_frame \n",
    "    )\n",
    "    \n",
    "    return foot_position[[0, 2]]\n",
    "\n",
    "# helper function that given a leg, returns the Jacobian\n",
    "# matrix for the related foot\n",
    "def get_foot_jacobian(plant, context, leg):\n",
    "    \n",
    "    # get reference frames for the given leg and the ground\n",
    "    leg_frame = plant.GetBodyByName(leg).body_frame()\n",
    "    ground_frame = plant.GetBodyByName('ground').body_frame()\n",
    "\n",
    "    # compute Jacobian\n",
    "    J = plant.CalcJacobianTranslationalVelocity(\n",
    "        context,\n",
    "        JacobianWrtVariable(0), # do not care too much about this\n",
    "        leg_frame,\n",
    "        foot_in_leg,\n",
    "        ground_frame,\n",
    "        ground_frame\n",
    "    )\n",
    "    \n",
    "    # throw away the y coordinate since we are in 2D\n",
    "    return J[[0, 2]]"
   ]
  },
  {
   "cell_type": "markdown",
   "metadata": {},
   "source": [
    "## The Trajectory Optimization Problem\n",
    "\n",
    "We start by setting some parameters of our optimization problem."
   ]
  },
  {
   "cell_type": "code",
   "execution_count": null,
   "metadata": {},
   "outputs": [],
   "source": [
    "# numeric parameters\n",
    "T = 50       # time steps in the trajectory optimization\n",
    "h_min = .005 # minimum time interval is seconds\n",
    "h_max = .05  # maximum time interval is seconds"
   ]
  },
  {
   "cell_type": "markdown",
   "metadata": {},
   "source": [
    "**Troubleshooting.**\n",
    "To simplify the reading, we divide the construction of the `MathematicalProgram` in multiple cells.\n",
    "If you modify any of the components of the problem, be sure to rerun your code starting from the following cell where the `MathematicalProgram` is initialized.\n",
    "Otherwise you will add the same constraints multiple times to the same optimization problem.\n",
    "\n",
    "We start from the decision variables of the trajectory optimization problem.\n",
    "Notice that we also add the accelerations `qdd` among the optimization variables here.\n",
    "This is slightly unusual, and not necessary, but in these circumnstances simplifies a bit the code."
   ]
  },
  {
   "cell_type": "code",
   "execution_count": null,
   "metadata": {},
   "outputs": [],
   "source": [
    "# initialize program\n",
    "prog = MathematicalProgram()\n",
    "\n",
    "# vector of the time intervals\n",
    "# (distances between the T + 1 break points)\n",
    "h = prog.NewContinuousVariables(T, name='h')\n",
    "\n",
    "# system configuration, generalized velocities, and accelerations\n",
    "q = prog.NewContinuousVariables(rows=T+1, cols=nq, name='q')\n",
    "qd = prog.NewContinuousVariables(rows=T+1, cols=nq, name='qd')\n",
    "qdd = prog.NewContinuousVariables(rows=T, cols=nq, name='qdd')\n",
    "\n",
    "# stance-foot force\n",
    "f = prog.NewContinuousVariables(rows=T, cols=nf, name='f')\n",
    "\n",
    "# time integral of the heel strike impulse for the swing leg\n",
    "lam_int = prog.NewContinuousVariables(nf, name='lam_int')\n",
    "\n",
    "# generalized velocity after the swing-leg impact with the ground\n",
    "# after \"mirroring\", this must coincide with the initial velocity\n",
    "# qd[0] to ensure periodicity of the motion\n",
    "qd_post = prog.NewContinuousVariables(nq, name='qd_post')"
   ]
  },
  {
   "cell_type": "markdown",
   "metadata": {},
   "source": [
    "Here are part of the constraints of the optimization problem."
   ]
  },
  {
   "cell_type": "code",
   "execution_count": null,
   "metadata": {
    "tags": [
     "empty"
    ]
   },
   "outputs": [],
   "source": []
  },
  {
   "cell_type": "markdown",
   "metadata": {},
   "source": [
    "Now it is your turn to complete the optimization problem.\n",
    "You will need to add five groups of constraints.\n",
    "If you do things correctly, you should be able to express all of these as **linear** constraints on the decision variables we defined above.\n",
    "Hence in the following cell yo should only need to use the method `AddLinearConstraint` of `MathematicalProgram`.\n",
    "More precisely, you need to:\n",
    "- Ensure that at time zero the swing foot is in contact with the ground.\n",
    "Noticing that in the last cell we already ensured that the stance foot is in contact with the ground at time zero, and taking advantage of the simmetry in the structure of the compass gait, you should be able to express this as a linear constraint on the vector `q[0]`.\n",
    "- Ensure that the contact force at the stance foot lies in the friction cone for all times.\n",
    "This means that the normal component (`f[t, 1]`) must be nonnegative and the tangential one (`f[t, 0]`) must be between `- f[t, 1]` and `+ f[t, 1]`.\n",
    "- Ensure that the force at the swing foot during the heel strike lies in the friction cone. (Same as before but for `lam_int`.)\n",
    "- Require that the final configuration `q[-1]` mirrors exactly the initial one `q[0]`.\n",
    "- Require that the velocity `qd_post` after the heel strike mirrors exactly the initial velocity `qd[0]`."
   ]
  },
  {
   "cell_type": "code",
   "execution_count": null,
   "metadata": {
    "tags": [
     "empty"
    ]
   },
   "outputs": [],
   "source": []
  },
  {
   "cell_type": "markdown",
   "metadata": {},
   "source": [
    "Here we set the initial guess for our optimization problem.\n",
    "\n",
    "For the robot configuration `q`, we just interpolate between the initial value `q0_guess` and the final value `- q0_guess`.\n",
    "In our implementation, the value given below for `q0_guess` made the optimization converge.\n",
    "But, if you find the need, feel free to tweak this parameter.\n",
    "The initial guess for the velocity and the acceleration is obtained by differentiating the one for the position.\n",
    "\n",
    "For the time step `h` we just initialize it to its maximal value (somewhat an arbitrary decision, feel free to try `h_min` if you feel to), and the normal force at the stance foot is initially equal to the weight of the robot.\n",
    "\n",
    "All the other optimization variables are initialized at zero.\n",
    "Note that, if the initial guess for a variable is not specified, the default value is zero."
   ]
  },
  {
   "cell_type": "code",
   "execution_count": null,
   "metadata": {},
   "outputs": [],
   "source": [
    "# vector of the initial guess\n",
    "initial_guess = np.empty(prog.num_vars())\n",
    "\n",
    "# initial guess for the time step\n",
    "h_guess = h_max\n",
    "prog.SetDecisionVariableValueInVector(h, [h_guess] * T, initial_guess)\n",
    "\n",
    "# # interpolate postion\n",
    "# theta_init = np.pi / 10\n",
    "# theta_final = - theta_init\n",
    "# theta_guess = np.linspace(theta_init, theta_final, T + 1)\n",
    "# q_guess = np.zeros((T + 1, nq))\n",
    "# for t, theta in enumerate(theta_guess):\n",
    "#     q_guess[t] = np.array([\n",
    "#         np.sin(theta_init) - np.sin(theta),\n",
    "#         np.cos(theta),\n",
    "#         theta,\n",
    "#         - theta\n",
    "#     ])\n",
    "# q_guess_poly = PiecewisePolynomial.FirstOrderHold(\n",
    "#     np.arange(0, T + 1) * h_guess,\n",
    "#     q_guess.T\n",
    "# )\n",
    "\n",
    "theta = np.pi / 10\n",
    "q0_guess = np.array([\n",
    "    0,\n",
    "    np.cos(theta),\n",
    "    theta,\n",
    "    - theta\n",
    "])\n",
    "qf_guess = np.array([\n",
    "    2 * np.sin(theta),\n",
    "    np.cos(theta),\n",
    "    - theta,\n",
    "    theta\n",
    "])\n",
    "q_guess_poly = PiecewisePolynomial.FirstOrderHold(\n",
    "    [0, T * h_guess],\n",
    "    np.column_stack((q0_guess, qf_guess))\n",
    ")\n",
    "qd_guess_poly = q_guess_poly.derivative()\n",
    "qdd_guess_poly = q_guess_poly.derivative()\n",
    "q_guess = np.hstack([q_guess_poly.value(t * h_guess) for t in range(T + 1)]).T\n",
    "qd_guess = np.hstack([qd_guess_poly.value(t * h_guess) for t in range(T + 1)]).T\n",
    "qdd_guess = np.hstack([qdd_guess_poly.value(t * h_guess) for t in range(T)]).T\n",
    "\n",
    "# initial guess for the state\n",
    "prog.SetDecisionVariableValueInVector(q, q_guess, initial_guess)\n",
    "prog.SetDecisionVariableValueInVector(qd, qd_guess, initial_guess)\n",
    "prog.SetDecisionVariableValueInVector(qdd, qdd_guess, initial_guess)\n",
    "\n",
    "# total weight of the compass gait\n",
    "bodies = ['body', 'stance_leg', 'swing_leg']\n",
    "mass = sum(plant.GetBodyByName(body).default_mass() for body in bodies)\n",
    "g = - plant.gravity_field().gravity_vector()[-1]\n",
    "weight = mass * g\n",
    "\n",
    "# initial guess for the normal component of the stance-leg force\n",
    "prog.SetDecisionVariableValueInVector(f[:, 1], [weight] * T, initial_guess)\n",
    "\n",
    "# prog.SetDecisionVariableValueInVector(lam_int[1], weight/2, initial_guess)"
   ]
  },
  {
   "cell_type": "markdown",
   "metadata": {},
   "source": [
    "We can finally solve the problem! Be sure that the solver actually converged; you can do this by looking at the variable `result.is_success()`."
   ]
  },
  {
   "cell_type": "code",
   "execution_count": null,
   "metadata": {},
   "outputs": [],
   "source": [
    "# solve mathematical program with initial guess\n",
    "solver = SnoptSolver()\n",
    "result = solver.Solve(prog, initial_guess)\n",
    "\n",
    "# ensure solution is found\n",
    "print('Solution found?', result.is_success())"
   ]
  },
  {
   "cell_type": "markdown",
   "metadata": {},
   "source": [
    "In the following cell, we retrieve the optimal value of some of the decision variables."
   ]
  },
  {
   "cell_type": "code",
   "execution_count": null,
   "metadata": {},
   "outputs": [],
   "source": [
    "# get optimal solution\n",
    "q_opt = result.GetSolution(q)\n",
    "qd_opt = result.GetSolution(qd)\n",
    "h_opt = result.GetSolution(h)\n",
    "x_opt = np.hstack((q_opt, qd_opt))"
   ]
  },
  {
   "cell_type": "markdown",
   "metadata": {},
   "source": [
    "## Animate the Result\n",
    "\n",
    "Here we quickly build a Drake diagram to animate the result we got from trajectory optimization: useful for debugging your code and be sure that everything looks good."
   ]
  },
  {
   "cell_type": "code",
   "execution_count": null,
   "metadata": {},
   "outputs": [],
   "source": [
    "# interpolate state values for animation\n",
    "time_breaks_opt = np.array([sum(h_opt[:t]) for t in range(T+1)])\n",
    "x_opt_poly = PiecewisePolynomial.FirstOrderHold(time_breaks_opt, x_opt.T)\n",
    "\n",
    "# parse plant with scene graph\n",
    "plant = MultibodyPlant(time_step=0)\n",
    "scene_graph = SceneGraph()\n",
    "plant.RegisterAsSourceForSceneGraph(scene_graph)\n",
    "file_name = FindResource('models/compass_gait_abs.urdf')\n",
    "Parser(plant).AddModelFromFile(file_name)\n",
    "plant.Finalize()\n",
    "\n",
    "# build block diagram and drive system state with\n",
    "# the trajectory from the optimization problem\n",
    "builder = DiagramBuilder()\n",
    "source = builder.AddSystem(TrajectorySource(x_opt_poly))\n",
    "builder.AddSystem(scene_graph)\n",
    "pos_to_pose = builder.AddSystem(MultibodyPositionToGeometryPose(plant, input_multibody_state=True))\n",
    "builder.Connect(source.get_output_port(0), pos_to_pose.get_input_port())\n",
    "builder.Connect(pos_to_pose.get_output_port(), scene_graph.get_source_pose_port(plant.get_source_id()))\n",
    "\n",
    "# add visualizer\n",
    "xlim = [-.75, 1.]\n",
    "ylim = [-.2, 1.5]\n",
    "visualizer = builder.AddSystem(PlanarSceneGraphVisualizer(scene_graph, xlim=xlim, ylim=ylim, show=False))\n",
    "builder.Connect(scene_graph.get_pose_bundle_output_port(), visualizer.get_input_port(0))\n",
    "simulator = Simulator(builder.Build())\n",
    "\n",
    "# generate animation\n",
    "visualizer.start_recording()\n",
    "simulator.AdvanceTo(x_opt_poly.end_time())\n",
    "ani = visualizer.get_recording_as_animation()\n",
    "display(HTML(ani.to_jshtml()))"
   ]
  },
  {
   "cell_type": "markdown",
   "metadata": {},
   "source": [
    "## Plot the Results\n",
    "\n",
    "Here are two plots to visualize the results of the trajectory optimization.\n",
    "\n",
    "In the first we plot the angles of the two legs.\n",
    "To complete the plot we mirror the trajctory ..."
   ]
  },
  {
   "cell_type": "code",
   "execution_count": null,
   "metadata": {},
   "outputs": [],
   "source": [
    "plt.plot(q_opt[:, 2], q_opt[:, 3], color='b', label='Blue leg swinging')\n",
    "plt.plot(q_opt[:, 3], q_opt[:, 2], color='r', label='Red leg swinging')\n",
    "plt.scatter(q_opt[0, 3], q_opt[0, 2], color='b', zorder=3, label='Blue-leg heel strike')\n",
    "plt.scatter(q_opt[0, 2], q_opt[0, 3], color='r', zorder=3, label='Red-leg heel strike')\n",
    "plt.xlabel('Red-leg angle')\n",
    "plt.ylabel('Blue-leg angle')\n",
    "plt.grid(True)\n",
    "plt.legend()"
   ]
  },
  {
   "cell_type": "markdown",
   "metadata": {},
   "source": [
    "Here we plot angle vs velocity.\n",
    "If you did things correctly this should look like the one from Figure??? here, upside down."
   ]
  },
  {
   "cell_type": "code",
   "execution_count": null,
   "metadata": {},
   "outputs": [],
   "source": [
    "plt.plot(q_opt[:, 2], qd_opt[:, 2], color='b', label='Blue leg swinging')\n",
    "plt.plot(q_opt[:, 3], qd_opt[:, 3], color='r', label='Red leg swinging')\n",
    "plt.plot(\n",
    "    [q_opt[0, 2], q_opt[-1, 3]],\n",
    "    [qd_opt[0, 2], qd_opt[-1, 3]],\n",
    "    linestyle=':',\n",
    "    color='r',\n",
    "    label='Red-leg heel strike'\n",
    ")\n",
    "plt.plot(\n",
    "    [q_opt[-1, 2], q_opt[0, 3]],\n",
    "    [qd_opt[-1, 2], qd_opt[0, 3]],\n",
    "    linestyle=':',\n",
    "    color='b',\n",
    "    label='Blue-leg heel strike'\n",
    ")\n",
    "plt.xlabel('Red-leg angle')\n",
    "plt.ylabel('Red-leg angular velocity')\n",
    "plt.grid(True)\n",
    "plt.legend()"
   ]
  }
 ],
 "metadata": {
  "kernelspec": {
   "display_name": "Python 3",
   "language": "python",
   "name": "python3"
  },
  "language_info": {
   "codemirror_mode": {
    "name": "ipython",
    "version": 3
   },
   "file_extension": ".py",
   "mimetype": "text/x-python",
   "name": "python",
   "nbconvert_exporter": "python",
   "pygments_lexer": "ipython3",
   "version": "3.7.7"
  }
 },
 "nbformat": 4,
 "nbformat_minor": 4
}