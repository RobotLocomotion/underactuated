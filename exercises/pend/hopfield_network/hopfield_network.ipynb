{
 "cells": [
  {
   "cell_type": "markdown",
   "metadata": {
    "id": "N0wde7kW2CJ0"
   },
   "source": [
    "## Notebook Setup \n",
    "The following cell will install Drake, checkout the underactuated repository, and set up the path (only if necessary).\n",
    "- On Google's Colaboratory, this **will take approximately two minutes** on the first time it runs (to provision the machine), but should only need to reinstall once every 12 hours.  Colab will ask you to \"Reset all runtimes\"; say no to save yourself the reinstall.\n",
    "- On Binder, the machines should already be provisioned by the time you can run this; it should return (almost) instantly.\n",
    "\n",
    "More details are available [here](http://underactuated.mit.edu/drake.html).\n"
   ]
  },
  {
   "cell_type": "code",
   "execution_count": null,
   "metadata": {
    "id": "9Ran1a6509YI"
   },
   "outputs": [],
   "source": [
    "try:\n",
    "    import pydrake\n",
    "    import underactuated\n",
    "except ImportError:\n",
    "    !curl -s https://raw.githubusercontent.com/RussTedrake/underactuated/master/scripts/setup/jupyter_setup.py > jupyter_setup.py\n",
    "    from jupyter_setup import setup_underactuated\n",
    "    setup_underactuated()\n",
    "\n",
    "# Setup matplotlib.  \n",
    "from IPython import get_ipython\n",
    "if get_ipython() is not None: get_ipython().run_line_magic(\"matplotlib\", \"inline\")"
   ]
  },
  {
   "cell_type": "code",
   "execution_count": null,
   "metadata": {
    "id": "HQ0sDy3U1EbV"
   },
   "outputs": [],
   "source": [
    "# python libraries\n",
    "import numpy as np\n",
    "import matplotlib.pyplot as plt\n",
    "\n",
    "# pydrake imports\n",
    "from pydrake.all import DiagramBuilder, Variable, SymbolicVectorSystem, LogOutput, Simulator\n",
    "\n",
    "# underactuated imports\n",
    "from underactuated import plot_2d_phase_portrait"
   ]
  },
  {
   "cell_type": "markdown",
   "metadata": {
    "id": "KrfWrOszQBTj"
   },
   "source": [
    "## Problem Description\n",
    "In this problem you will write the dynamics equation for the Hopfield network.\n",
    "At the end of the notebook, you will be able to check your work in test cases we set up for you.\n",
    "\n",
    "**These are the main steps of the exercise:**\n",
    "1. Write the function \"dynamics\" that defines the differential equation. _You need to write a piece of code to implement the system dynamics._\n",
    "\n",
    "2. Modify the system dynamics to memorize MNIST data. _You need to write a piece of code to modify the matrix $A$._\n",
    "\n",
    "\n",
    "### Question (a) - (c)\n",
    "\n",
    "Write the function for the dynamical system defined in the quesiton. This function should return the right-hand side of the dynamical equation: $\\dot{x} = A^T\\,\\text{softmax}(\\beta\\, A\\, x) - x$. Write the function to output $A^T\\,\\text{softmax}(\\beta\\, A\\, x) - x$ given the state $x$, matrix $A$, and scalar $\\beta$."
   ]
  },
  {
   "cell_type": "code",
   "execution_count": 4,
   "metadata": {
    "id": "ousWBWX73GDh"
   },
   "outputs": [],
   "source": [
    "\n",
    "def dynamics(x, A, beta):\n",
    "    \"\"\"outputs the right hand side of differential equation in Hopfield dynamical system.\n",
    "    \n",
    "    ARGUMENTS: x: numpy array of size n\n",
    "               A: numpy array of size m by n\n",
    "               beta: scalar\n",
    "    RETURNS:   numpy array of size n\n",
    "    \"\"\"\n",
    "    ################### Your solution goes here #######################\n",
    "    \n",
    "    return \n",
    "    \n",
    "    ###################################################################\n",
    "\n"
   ]
  },
  {
   "cell_type": "markdown",
   "metadata": {
    "id": "C4WDb6VdQovY"
   },
   "source": [
    "Here we create a Drake dynamical system using the class `SymbolicVectorSystem`.\n",
    "This requires the dynamics to be written in the form $\\dot{\\mathbf{x}} = f(\\mathbf{x})$, where $\\mathbf{x}$ is a vector of Drake symbolic variables.\n",
    "`SymbolicVectorSystem` is just one of the many options we have in Drake: when systems will get more complicated, writing the dynamics by hand can be rather tedious...\n",
    "\n",
    "The cell below should plot the phase portrait if the function dynamics(x, A, beta) is implemented correctly."
   ]
  },
  {
   "cell_type": "code",
   "execution_count": null,
   "metadata": {
    "colab": {
     "base_uri": "https://localhost:8080/",
     "height": 574
    },
    "id": "URTCCqT63cPJ",
    "outputId": "bc965e3c-fa82-468b-a606-70ce0fb0c5b2"
   },
   "outputs": [],
   "source": [
    "A = np.array([[1,0],[0,1],[-1,-1]])\n",
    "beta = 5\n",
    "\n",
    "# state variables\n",
    "x1 = Variable(\"x1\")\n",
    "x2 = Variable(\"x2\")\n",
    "x = [x1, x2]\n",
    "\n",
    "# Drake nonlinear system\n",
    "system = SymbolicVectorSystem(state=x, output=x,  dynamics=dynamics(x, A, beta))\n",
    "\n",
    "# initialize plot and make it big enough\n",
    "plt.figure(figsize=(10, 10))\n",
    "\n",
    "# plot the phase portrait of the 2d system\n",
    "plot_2d_phase_portrait((lambda x: dynamics(x, A, beta)), x1lim=[-2, 2], x2lim=[-2, 2], linewidth=1, density=2)"
   ]
  },
  {
   "cell_type": "markdown",
   "metadata": {
    "id": "GgzQay6pR2w6"
   },
   "source": [
    "### Question (d)\n",
    "In this question, we will modify the constant matrix $A$ to store a subset of the MNIST dataset. The MNIST dataset contains 28 by 28 images of hand-written numbers. \n",
    "\n",
    "In the following cell, we load training data and corrupted images we want to restore. The variable `training_data` contains the four images that should be stored as the equilibriums to our dynamical system.\n",
    "\n",
    "The variable `corrupted_img` contains a set of corrupted images that are used as the initial conditions."
   ]
  },
  {
   "cell_type": "code",
   "execution_count": null,
   "metadata": {
    "colab": {
     "base_uri": "https://localhost:8080/",
     "height": 289
    },
    "id": "XhImd8aVZtv1",
    "outputId": "f97c30b4-bada-4423-e553-da1c9114450d"
   },
   "outputs": [],
   "source": [
    "from keras.datasets import mnist\n",
    "(x_train, y_train), (x_test, y_test) = mnist.load_data()\n",
    "\n",
    "training_data = [x_train[0], x_train[1], x_train[4], x_train[6]]\n",
    "\n",
    "corrupted_img = [x_train[8], x_train[34], x_train[5]]\n",
    "\n",
    "for i, item in enumerate(corrupted_img):\n",
    "    corrupted_img[i][14:,:]=0\n",
    "\n",
    "print(\"Training Data\")\n",
    "fig, ax = plt.subplots(1, 4, sharex='col', sharey='row')\n",
    "for i, item in enumerate(training_data):\n",
    "    ax[i].imshow(item,cmap='gray')\n",
    "plt.show()\n",
    "\n",
    "print(\"Corrupted Images\")\n",
    "fig, ax = plt.subplots(1, 3, sharex='col', sharey='row')\n",
    "for i, item in enumerate(corrupted_img):\n",
    "    ax[i].imshow(item,cmap='gray')\n",
    "plt.show()\n"
   ]
  },
  {
   "cell_type": "markdown",
   "metadata": {},
   "source": [
    "Note that "
   ]
  },
  {
   "cell_type": "markdown",
   "metadata": {
    "id": "jhMLBRmqWmHG"
   },
   "source": [
    "Modify the matrix $A$ to store the four MNIST training data provided as a list of images in . \n",
    "\n",
    "We will vectorize the image to the state ($x\\in\\mathbb{R}^{784}$) and store training data to the equilibriums of our dynamical system.\n",
    "\n",
    "Modify the matrix $A\\in\\mathbb{R}^{4\\times 784}$ to store four training data ($m=4$) in variable `training_data`.\n",
    "\n",
    "Simulate the dynamical system to restore the image from the initial query provided in the notebook.\n",
    "\n",
    "\n",
    "The data is currently provided as a 28 by 28 image ($\\mathbb{R}^{28\\times 28}$). First, modify the image data to a vector form, such that it is in the same format as the state $x\\in\\mathbb{R}^{784}$. Then, recall that the question (c) showed the relationship between the matrix $A$ and the equilibriums. Construct the matrix $A$ such that the dynamical system maps the training data set to the equilibrium."
   ]
  },
  {
   "cell_type": "code",
   "execution_count": null,
   "metadata": {
    "id": "s0h37TyVbyDH"
   },
   "outputs": [],
   "source": [
    "\n",
    "################### Your solution goes here ############################\n",
    "# Assume that the transition from image (28 by 28 array) to state (784 by 1 array) is done by \n",
    "# x_state = x_image.reshape((-1))\n",
    "\n",
    "def calculate_A(training_data):\n",
    "    \"\"\"outputs the right hand side of differential equation in Hopfield dynamical system.\n",
    "    \n",
    "    ARGUMENTS: training_data: a list of numpy array of arbitrary size (e.g., 28 by 28 for MNIST problem)\n",
    "    RETURNS:   numpy array of size m by n (e.g., 4 by 784 for MNIST problem)\n",
    "    \"\"\"\n",
    "    return []\n",
    "\n",
    "#########################################################################\n",
    "\n",
    "import pydrake\n",
    "A = calculate_A(training_data)\n",
    "beta = 1e-5\n",
    "\n",
    "# state variables\n",
    "x = pydrake.symbolic.MakeVectorContinuousVariable(784, 'x')\n",
    "system = SymbolicVectorSystem(state=x, output=x,  dynamics=dynamics(x, A, beta))\n"
   ]
  },
  {
   "cell_type": "markdown",
   "metadata": {
    "id": "UdG_LCZ4QaE0"
   },
   "source": [
    "## Drake Diagram\n",
    "We then construct a Drake diagram.\n",
    "This is nothing more than a set of interconnected dynamical systems (similiar to the Simulink idea, if you ever used it).\n",
    "Our diagram will be very simple: we just connect our dynamical system to a logger, which will measure and store the system state during the simulation (similar to the Simulink `To Workspace` block)."
   ]
  },
  {
   "cell_type": "code",
   "execution_count": null,
   "metadata": {
    "id": "hLJLnMXyesD9"
   },
   "outputs": [],
   "source": [
    "# initialize builder of the diagram\n",
    "builder = DiagramBuilder()\n",
    "\n",
    "# add our dynamical system\n",
    "# (note: builder.AddSystem() returns a pointer to the system passed as input,\n",
    "# hence it is safe to assign the name \"system\" to its output)\n",
    "system = builder.AddSystem(system)\n",
    "\n",
    "# logger block to measure and store the state\n",
    "# connected to the (first and only) output port of the dynamical system\n",
    "logger = LogOutput(system.get_output_port(0), builder)\n",
    "\n",
    "# finalize diagram\n",
    "diagram = builder.Build()"
   ]
  },
  {
   "cell_type": "markdown",
   "metadata": {
    "id": "3Xz-M1QUQedJ"
   },
   "source": [
    "## Simulation\n",
    "We are ready to simulate our dynamical system.\n",
    "To this end we just feed our diagram in a the Drake `Simulator` and `AdvanceTo` the desired time."
   ]
  },
  {
   "cell_type": "code",
   "execution_count": null,
   "metadata": {
    "id": "NrPFuRiyeyLy"
   },
   "outputs": [],
   "source": [
    "# function that given the initial state\n",
    "# and a simulation time returns the system trajectory\n",
    "def simulate(x, sim_time):\n",
    "    \n",
    "    # clean the logger from old trajectories\n",
    "    logger.reset()\n",
    "    \n",
    "    # set up the simulator\n",
    "    simulator = Simulator(diagram)\n",
    "    \n",
    "    # set initial conditions\n",
    "    # (for now, think of \"context\" as a synonym of state)\n",
    "    context = simulator.get_mutable_context()\n",
    "    context.SetContinuousState(x)\n",
    "    \n",
    "    # simulate from t=0 to t=sim_time\n",
    "    simulator.AdvanceTo(sim_time)\n",
    "    \n",
    "    # return the output (here = state) trajectory\n",
    "    return logger.data()"
   ]
  },
  {
   "cell_type": "markdown",
   "metadata": {
    "id": "zDWHY7tZY1IZ"
   },
   "source": [
    "We can visualize the trajectory by restoring the state format ($\\mathbb{R}^{28\\times 28}$) to an image format($\\mathbb{R}^{784}$)."
   ]
  },
  {
   "cell_type": "code",
   "execution_count": null,
   "metadata": {
    "colab": {
     "base_uri": "https://localhost:8080/",
     "height": 530
    },
    "id": "oMfs_WL1e4Bz",
    "outputId": "88605a39-1976-4d4c-83f6-3ec59188b44e"
   },
   "outputs": [],
   "source": [
    "# Visualize the simulated trajectories for corrupted image 1.\n",
    "\n",
    "import numpy as np\n",
    "import matplotlib.pyplot as plt\n",
    "import matplotlib.animation as animation\n",
    "from matplotlib import rc\n",
    "rc('animation', html='jshtml')\n",
    "\n",
    "x_init = corrupted_img[0].reshape((-1))\n",
    "traj = simulate(x_init, 5)\n",
    "\n",
    "fig = plt.figure(figsize=(6, 6))\n",
    "im = plt.imshow(traj.T[0].reshape(28,28),cmap='gray')\n",
    "\n",
    "def animate(i):    \n",
    "    im.set_array(traj.T[i].reshape(28,28))\n",
    "    return im,\n",
    "\n",
    "# create animation using the animate() function\n",
    "myAnimation = animation.FuncAnimation(fig, animate, frames=range(len(traj.T)), interval=10, blit=True, repeat=True)\n",
    "\n",
    "plt.close()\n",
    "myAnimation"
   ]
  },
  {
   "cell_type": "code",
   "execution_count": null,
   "metadata": {
    "colab": {
     "base_uri": "https://localhost:8080/",
     "height": 530
    },
    "id": "nRDln7VXjFeh",
    "outputId": "030d65e8-b30d-42b0-b157-2074b2cb58b5"
   },
   "outputs": [],
   "source": [
    "# Visualize the simulated trajectories for corrupted image 2.\n",
    "\n",
    "x_init = corrupted_img[1].reshape((-1))\n",
    "traj = simulate(x_init, 5)\n",
    "\n",
    "fig = plt.figure(figsize=(6, 6))\n",
    "im = plt.imshow(traj.T[0].reshape(28,28),cmap='gray')\n",
    "\n",
    "def animate(i):    \n",
    "    im.set_array(traj.T[i].reshape(28,28))\n",
    "    return im,\n",
    "\n",
    "# create animation using the animate() function\n",
    "myAnimation = animation.FuncAnimation(fig, animate, frames=range(len(traj.T)), interval=10, blit=True, repeat=True)\n",
    "\n",
    "plt.close()\n",
    "myAnimation"
   ]
  },
  {
   "cell_type": "code",
   "execution_count": null,
   "metadata": {
    "colab": {
     "base_uri": "https://localhost:8080/",
     "height": 530
    },
    "id": "I3tPCtvmPsql",
    "outputId": "daaeb44a-08d8-4984-94c9-f591d39d31cf"
   },
   "outputs": [],
   "source": [
    "# Visualize the simulated trajectories for corrupted image 3.\n",
    "\n",
    "x_init = corrupted_img[2].reshape((-1))\n",
    "traj = simulate(x_init, 5)\n",
    "\n",
    "fig = plt.figure(figsize=(6, 6))\n",
    "im = plt.imshow(traj.T[0].reshape(28,28),cmap='gray')\n",
    "\n",
    "def animate(i):    \n",
    "    im.set_array(traj.T[i].reshape(28,28))\n",
    "    return im,\n",
    "\n",
    "# create animation using the animate() function\n",
    "myAnimation = animation.FuncAnimation(fig, animate, frames=range(len(traj.T)), interval=10, blit=True, repeat=True)\n",
    "\n",
    "plt.close()\n",
    "myAnimation"
   ]
  },
  {
   "cell_type": "markdown",
   "metadata": {
    "id": "ZBKNIXT9Bgod"
   },
   "source": [
    "## Fun Applications (Optional)\n",
    "\n",
    "In this section, we explore fun applications of Hopfield networks. You do not need to write any additional code for this section.\n",
    "\n",
    "For those of you who watched Pokemon, the viewers are asked to guess Pokemon names from its shadows.\n",
    "(For example, https://www.youtube.com/watch?v=an2j2IGS7us&ab_channel=SasukeiKun)\n",
    "\n",
    "We can also train Hopfield network to memorize Pokemons."
   ]
  },
  {
   "cell_type": "code",
   "execution_count": null,
   "metadata": {
    "colab": {
     "base_uri": "https://localhost:8080/",
     "height": 317
    },
    "id": "hhphJgjHuEu5",
    "outputId": "e9646d3e-c364-4757-85cd-24e119adbcff"
   },
   "outputs": [],
   "source": [
    "from skimage import io\n",
    "from skimage.transform import resize\n",
    "\n",
    "urls = [\"https://upload.wikimedia.org/wikipedia/en/5/59/Pok%C3%A9mon_Squirtle_art.png\",\n",
    "       \"https://upload.wikimedia.org/wikipedia/en/a/a5/Pok%C3%A9mon_Charmander_art.png\",\n",
    "       \"https://upload.wikimedia.org/wikipedia/en/2/28/Pok%C3%A9mon_Bulbasaur_art.png\"]\n",
    "\n",
    "training_data = []\n",
    "query_data = []\n",
    "for url in urls:\n",
    "    resized_img = resize(io.imread(url), (80, 80))\n",
    "    query_img = np.ones(resized_img.shape)\n",
    "    query_img[:,:,0] = (resized_img[...,:3].max(axis=2)<0.01)*0.\n",
    "    query_img[:,:,1] = (resized_img[...,:3].max(axis=2)<0.01)*0.\n",
    "    query_img[:,:,2] = (resized_img[...,:3].max(axis=2)<0.01)*0.\n",
    "    query_img[:,:,3] = resized_img[:,:,3]\n",
    "    training_data.append(resized_img)\n",
    "    query_data.append(query_img)\n",
    "\n",
    "print(\"Training Data\")\n",
    "fig, ax = plt.subplots(1, 3, sharex='col', sharey='row')\n",
    "for i, item in enumerate(training_data):\n",
    "    ax[i].imshow(item)\n",
    "plt.show()\n",
    "\n",
    "print(\"Guess who?\")\n",
    "fig, ax = plt.subplots(1, 3, sharex='col', sharey='row')\n",
    "for i, item in enumerate(query_data):\n",
    "    ax[i].imshow(item)\n",
    "plt.show()"
   ]
  },
  {
   "cell_type": "code",
   "execution_count": null,
   "metadata": {
    "id": "F_toOgImdg-8"
   },
   "outputs": [],
   "source": [
    "from pydrake.all import LeafSystem, BasicVector\n",
    "\n",
    "class HopfieldNet(LeafSystem):\n",
    "    def __init__(self, A, beta):\n",
    "        LeafSystem.__init__(self)\n",
    "        self.DeclareContinuousState(A.shape[1])\n",
    "        self.DeclareVectorOutputPort(BasicVector(A.shape[1]), self.CopyStateOut)\n",
    "        self.A = A\n",
    "        self.beta = beta\n",
    "        \n",
    "    def DoCalcTimeDerivatives(self, context, derivatives):\n",
    "        x = context.get_continuous_state_vector().CopyToVector()\n",
    "        xdot = dynamics(x, self.A, self.beta)\n",
    "        derivatives.get_mutable_vector().SetFromVector(xdot)\n",
    "        \n",
    "    def CopyStateOut(self, context, output):\n",
    "        x = context.get_continuous_state_vector().get_value()\n",
    "        y = output.get_mutable_value()\n",
    "        y[:] = x"
   ]
  },
  {
   "cell_type": "code",
   "execution_count": null,
   "metadata": {
    "id": "VzAMYp_tvI3f"
   },
   "outputs": [],
   "source": [
    "A_img = []\n",
    "for item in training_data:\n",
    "    A_img += [item.reshape((-1))]\n",
    "A = np.array(A_img)\n",
    "\n",
    "beta = 1e-3\n",
    "\n",
    "# initialize builder of the diagram\n",
    "builder = DiagramBuilder()\n",
    "\n",
    "# add our dynamical system\n",
    "# (note: builder.AddSystem() returns a pointer to the system passed as input,\n",
    "# hence it is safe to assign the name \"system\" to its output)\n",
    "system = builder.AddSystem(HopfieldNet(A, beta))\n",
    "\n",
    "# logger block to measure and store the state\n",
    "# connected to the (first and only) output port of the dynamical system\n",
    "logger = LogOutput(system.get_output_port(0), builder)\n",
    "\n",
    "# finalize diagram\n",
    "diagram = builder.Build()"
   ]
  },
  {
   "cell_type": "code",
   "execution_count": null,
   "metadata": {
    "id": "RPPnIaKxA9c4"
   },
   "outputs": [],
   "source": [
    "# function that given the initial state\n",
    "# and a simulation time returns the system trajectory\n",
    "def simulate(x, sim_time):\n",
    "    \n",
    "    # clean the logger from old trajectories\n",
    "    logger.reset()\n",
    "    \n",
    "    # set up the simulator\n",
    "    simulator = Simulator(diagram)\n",
    "    \n",
    "    # set initial conditions\n",
    "    # (for now, think of \"context\" as a synonym of state)\n",
    "    context = simulator.get_mutable_context()\n",
    "    context.SetContinuousState(x)\n",
    "    \n",
    "    # simulate from t=0 to t=sim_time\n",
    "    simulator.AdvanceTo(sim_time)\n",
    "    \n",
    "    # return the output (here = state) trajectory\n",
    "    return logger.data()"
   ]
  },
  {
   "cell_type": "code",
   "execution_count": null,
   "metadata": {
    "colab": {
     "base_uri": "https://localhost:8080/",
     "height": 530
    },
    "id": "VarWTJr4DyFV",
    "outputId": "8646b285-3860-43a1-a67a-ad0f6ce76d43"
   },
   "outputs": [],
   "source": [
    "# Visualize the simulated trajectories.\n",
    "x_init = query_data[0].reshape((-1))\n",
    "traj = simulate(x_init, 5)\n",
    "\n",
    "fig = plt.figure(figsize=(6, 6))\n",
    "im = plt.imshow(traj.T[0].reshape(80, 80, 4))\n",
    "\n",
    "def animate(i):    \n",
    "    im.set_array(traj.T[i].reshape(80, 80, 4))\n",
    "    return im,\n",
    "\n",
    "#create animation using the animate() function\n",
    "myAnimation = animation.FuncAnimation(fig, animate, frames=range(len(traj.T)), interval=50, blit=True, repeat=True)\n",
    "\n",
    "plt.close()\n",
    "myAnimation"
   ]
  },
  {
   "cell_type": "markdown",
   "metadata": {
    "id": "heSZz_ysHlN3"
   },
   "source": [
    "While the Hopfield network successfully retrieved Squirtle, there are limitations to this particular network. Can you identify what it is and propose an explanation why it happens?\n",
    "\n",
    "For example, try Charmander as the initial condition."
   ]
  },
  {
   "cell_type": "code",
   "execution_count": null,
   "metadata": {
    "colab": {
     "base_uri": "https://localhost:8080/",
     "height": 530
    },
    "id": "AH3t_MsrIJrl",
    "outputId": "afe0e1bc-699a-4af4-b2d9-73a03b5f32c5"
   },
   "outputs": [],
   "source": [
    "# Visualize the simulated trajectories.\n",
    "x_init = query_data[1].reshape((-1))\n",
    "traj = simulate(x_init, 5)\n",
    "\n",
    "fig = plt.figure(figsize=(6, 6))\n",
    "im = plt.imshow(traj.T[0].reshape(80, 80, 4))\n",
    "\n",
    "def animate(i):    \n",
    "    im.set_array(traj.T[i].reshape(80, 80, 4))\n",
    "    return im,\n",
    "\n",
    "#create animation using the animate() function\n",
    "myAnimation = animation.FuncAnimation(fig, animate, frames=range(len(traj.T)), interval=50, blit=True, repeat=True)\n",
    "\n",
    "plt.close()\n",
    "myAnimation"
   ]
  }
 ],
 "metadata": {
  "@webio": {
   "lastCommId": null,
   "lastKernelId": null
  },
  "colab": {
   "collapsed_sections": [],
   "name": "Hopfield.ipynb",
   "provenance": [],
   "toc_visible": true
  },
  "kernelspec": {
   "display_name": "Python 3",
   "language": "python",
   "name": "python3"
  },
  "language_info": {
   "codemirror_mode": {
    "name": "ipython",
    "version": 3
   },
   "file_extension": ".py",
   "mimetype": "text/x-python",
   "name": "python",
   "nbconvert_exporter": "python",
   "pygments_lexer": "ipython3",
   "version": "3.7.4"
  }
 },
 "nbformat": 4,
 "nbformat_minor": 1
}